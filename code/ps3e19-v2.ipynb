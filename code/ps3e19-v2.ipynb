{
 "cells": [
  {
   "cell_type": "code",
   "execution_count": 1,
   "id": "382d523c",
   "metadata": {
    "_cell_guid": "b1076dfc-b9ad-4769-8c92-a6c4dae69d19",
    "_uuid": "8f2839f25d086af736a60e9eeb907d3b93b6e0e5",
    "execution": {
     "iopub.execute_input": "2023-07-19T04:54:13.749541Z",
     "iopub.status.busy": "2023-07-19T04:54:13.748431Z",
     "iopub.status.idle": "2023-07-19T04:54:13.762936Z",
     "shell.execute_reply": "2023-07-19T04:54:13.761847Z"
    },
    "papermill": {
     "duration": 0.028427,
     "end_time": "2023-07-19T04:54:13.765322",
     "exception": false,
     "start_time": "2023-07-19T04:54:13.736895",
     "status": "completed"
    },
    "tags": []
   },
   "outputs": [
    {
     "name": "stdout",
     "output_type": "stream",
     "text": [
      "/kaggle/input/playground-series-s3e19/sample_submission.csv\n",
      "/kaggle/input/playground-series-s3e19/train.csv\n",
      "/kaggle/input/playground-series-s3e19/test.csv\n"
     ]
    }
   ],
   "source": [
    "# This Python 3 environment comes with many helpful analytics libraries installed\n",
    "# It is defined by the kaggle/python Docker image: https://github.com/kaggle/docker-python\n",
    "# For example, here's several helpful packages to load\n",
    "\n",
    "import numpy as np # linear algebra\n",
    "import pandas as pd # data processing, CSV file I/O (e.g. pd.read_csv)\n",
    "\n",
    "# Input data files are available in the read-only \"../input/\" directory\n",
    "# For example, running this (by clicking run or pressing Shift+Enter) will list all files under the input directory\n",
    "\n",
    "import os\n",
    "for dirname, _, filenames in os.walk('/kaggle/input'):\n",
    "    for filename in filenames:\n",
    "        print(os.path.join(dirname, filename))\n",
    "\n",
    "# You can write up to 20GB to the current directory (/kaggle/working/) that gets preserved as output when you create a version using \"Save & Run All\" \n",
    "# You can also write temporary files to /kaggle/temp/, but they won't be saved outside of the current session"
   ]
  },
  {
   "cell_type": "code",
   "execution_count": 2,
   "id": "aff54fdf",
   "metadata": {
    "execution": {
     "iopub.execute_input": "2023-07-19T04:54:13.779852Z",
     "iopub.status.busy": "2023-07-19T04:54:13.779284Z",
     "iopub.status.idle": "2023-07-19T04:54:14.036939Z",
     "shell.execute_reply": "2023-07-19T04:54:14.035736Z"
    },
    "papermill": {
     "duration": 0.267975,
     "end_time": "2023-07-19T04:54:14.039718",
     "exception": false,
     "start_time": "2023-07-19T04:54:13.771743",
     "status": "completed"
    },
    "tags": []
   },
   "outputs": [],
   "source": [
    "df = pd.read_csv(\"/kaggle/input/playground-series-s3e19/train.csv\")"
   ]
  },
  {
   "cell_type": "code",
   "execution_count": 3,
   "id": "9ffb0313",
   "metadata": {
    "execution": {
     "iopub.execute_input": "2023-07-19T04:54:14.054082Z",
     "iopub.status.busy": "2023-07-19T04:54:14.053712Z",
     "iopub.status.idle": "2023-07-19T04:54:14.081164Z",
     "shell.execute_reply": "2023-07-19T04:54:14.080017Z"
    },
    "papermill": {
     "duration": 0.037326,
     "end_time": "2023-07-19T04:54:14.083299",
     "exception": false,
     "start_time": "2023-07-19T04:54:14.045973",
     "status": "completed"
    },
    "tags": []
   },
   "outputs": [
    {
     "data": {
      "text/html": [
       "<div>\n",
       "<style scoped>\n",
       "    .dataframe tbody tr th:only-of-type {\n",
       "        vertical-align: middle;\n",
       "    }\n",
       "\n",
       "    .dataframe tbody tr th {\n",
       "        vertical-align: top;\n",
       "    }\n",
       "\n",
       "    .dataframe thead th {\n",
       "        text-align: right;\n",
       "    }\n",
       "</style>\n",
       "<table border=\"1\" class=\"dataframe\">\n",
       "  <thead>\n",
       "    <tr style=\"text-align: right;\">\n",
       "      <th></th>\n",
       "      <th>id</th>\n",
       "      <th>date</th>\n",
       "      <th>country</th>\n",
       "      <th>store</th>\n",
       "      <th>product</th>\n",
       "      <th>num_sold</th>\n",
       "    </tr>\n",
       "  </thead>\n",
       "  <tbody>\n",
       "    <tr>\n",
       "      <th>0</th>\n",
       "      <td>0</td>\n",
       "      <td>2017-01-01</td>\n",
       "      <td>Argentina</td>\n",
       "      <td>Kaggle Learn</td>\n",
       "      <td>Using LLMs to Improve Your Coding</td>\n",
       "      <td>63</td>\n",
       "    </tr>\n",
       "    <tr>\n",
       "      <th>1</th>\n",
       "      <td>1</td>\n",
       "      <td>2017-01-01</td>\n",
       "      <td>Argentina</td>\n",
       "      <td>Kaggle Learn</td>\n",
       "      <td>Using LLMs to Train More LLMs</td>\n",
       "      <td>66</td>\n",
       "    </tr>\n",
       "    <tr>\n",
       "      <th>2</th>\n",
       "      <td>2</td>\n",
       "      <td>2017-01-01</td>\n",
       "      <td>Argentina</td>\n",
       "      <td>Kaggle Learn</td>\n",
       "      <td>Using LLMs to Win Friends and Influence People</td>\n",
       "      <td>9</td>\n",
       "    </tr>\n",
       "    <tr>\n",
       "      <th>3</th>\n",
       "      <td>3</td>\n",
       "      <td>2017-01-01</td>\n",
       "      <td>Argentina</td>\n",
       "      <td>Kaggle Learn</td>\n",
       "      <td>Using LLMs to Win More Kaggle Competitions</td>\n",
       "      <td>59</td>\n",
       "    </tr>\n",
       "    <tr>\n",
       "      <th>4</th>\n",
       "      <td>4</td>\n",
       "      <td>2017-01-01</td>\n",
       "      <td>Argentina</td>\n",
       "      <td>Kaggle Learn</td>\n",
       "      <td>Using LLMs to Write Better</td>\n",
       "      <td>49</td>\n",
       "    </tr>\n",
       "    <tr>\n",
       "      <th>...</th>\n",
       "      <td>...</td>\n",
       "      <td>...</td>\n",
       "      <td>...</td>\n",
       "      <td>...</td>\n",
       "      <td>...</td>\n",
       "      <td>...</td>\n",
       "    </tr>\n",
       "    <tr>\n",
       "      <th>136945</th>\n",
       "      <td>136945</td>\n",
       "      <td>2021-12-31</td>\n",
       "      <td>Spain</td>\n",
       "      <td>Kagglazon</td>\n",
       "      <td>Using LLMs to Improve Your Coding</td>\n",
       "      <td>700</td>\n",
       "    </tr>\n",
       "    <tr>\n",
       "      <th>136946</th>\n",
       "      <td>136946</td>\n",
       "      <td>2021-12-31</td>\n",
       "      <td>Spain</td>\n",
       "      <td>Kagglazon</td>\n",
       "      <td>Using LLMs to Train More LLMs</td>\n",
       "      <td>752</td>\n",
       "    </tr>\n",
       "    <tr>\n",
       "      <th>136947</th>\n",
       "      <td>136947</td>\n",
       "      <td>2021-12-31</td>\n",
       "      <td>Spain</td>\n",
       "      <td>Kagglazon</td>\n",
       "      <td>Using LLMs to Win Friends and Influence People</td>\n",
       "      <td>111</td>\n",
       "    </tr>\n",
       "    <tr>\n",
       "      <th>136948</th>\n",
       "      <td>136948</td>\n",
       "      <td>2021-12-31</td>\n",
       "      <td>Spain</td>\n",
       "      <td>Kagglazon</td>\n",
       "      <td>Using LLMs to Win More Kaggle Competitions</td>\n",
       "      <td>641</td>\n",
       "    </tr>\n",
       "    <tr>\n",
       "      <th>136949</th>\n",
       "      <td>136949</td>\n",
       "      <td>2021-12-31</td>\n",
       "      <td>Spain</td>\n",
       "      <td>Kagglazon</td>\n",
       "      <td>Using LLMs to Write Better</td>\n",
       "      <td>539</td>\n",
       "    </tr>\n",
       "  </tbody>\n",
       "</table>\n",
       "<p>136950 rows × 6 columns</p>\n",
       "</div>"
      ],
      "text/plain": [
       "            id        date    country         store  \\\n",
       "0            0  2017-01-01  Argentina  Kaggle Learn   \n",
       "1            1  2017-01-01  Argentina  Kaggle Learn   \n",
       "2            2  2017-01-01  Argentina  Kaggle Learn   \n",
       "3            3  2017-01-01  Argentina  Kaggle Learn   \n",
       "4            4  2017-01-01  Argentina  Kaggle Learn   \n",
       "...        ...         ...        ...           ...   \n",
       "136945  136945  2021-12-31      Spain     Kagglazon   \n",
       "136946  136946  2021-12-31      Spain     Kagglazon   \n",
       "136947  136947  2021-12-31      Spain     Kagglazon   \n",
       "136948  136948  2021-12-31      Spain     Kagglazon   \n",
       "136949  136949  2021-12-31      Spain     Kagglazon   \n",
       "\n",
       "                                               product  num_sold  \n",
       "0                    Using LLMs to Improve Your Coding        63  \n",
       "1                        Using LLMs to Train More LLMs        66  \n",
       "2       Using LLMs to Win Friends and Influence People         9  \n",
       "3           Using LLMs to Win More Kaggle Competitions        59  \n",
       "4                           Using LLMs to Write Better        49  \n",
       "...                                                ...       ...  \n",
       "136945               Using LLMs to Improve Your Coding       700  \n",
       "136946                   Using LLMs to Train More LLMs       752  \n",
       "136947  Using LLMs to Win Friends and Influence People       111  \n",
       "136948      Using LLMs to Win More Kaggle Competitions       641  \n",
       "136949                      Using LLMs to Write Better       539  \n",
       "\n",
       "[136950 rows x 6 columns]"
      ]
     },
     "execution_count": 3,
     "metadata": {},
     "output_type": "execute_result"
    }
   ],
   "source": [
    "df"
   ]
  },
  {
   "cell_type": "code",
   "execution_count": 4,
   "id": "3e82a596",
   "metadata": {
    "execution": {
     "iopub.execute_input": "2023-07-19T04:54:14.099413Z",
     "iopub.status.busy": "2023-07-19T04:54:14.099006Z",
     "iopub.status.idle": "2023-07-19T04:54:14.109927Z",
     "shell.execute_reply": "2023-07-19T04:54:14.108831Z"
    },
    "papermill": {
     "duration": 0.022428,
     "end_time": "2023-07-19T04:54:14.112199",
     "exception": false,
     "start_time": "2023-07-19T04:54:14.089771",
     "status": "completed"
    },
    "tags": []
   },
   "outputs": [],
   "source": [
    "df = df.drop([\"id\", \"date\"], axis = 1)"
   ]
  },
  {
   "cell_type": "code",
   "execution_count": 5,
   "id": "bb13eace",
   "metadata": {
    "execution": {
     "iopub.execute_input": "2023-07-19T04:54:14.127067Z",
     "iopub.status.busy": "2023-07-19T04:54:14.126675Z",
     "iopub.status.idle": "2023-07-19T04:54:14.141329Z",
     "shell.execute_reply": "2023-07-19T04:54:14.140356Z"
    },
    "papermill": {
     "duration": 0.024607,
     "end_time": "2023-07-19T04:54:14.143518",
     "exception": false,
     "start_time": "2023-07-19T04:54:14.118911",
     "status": "completed"
    },
    "tags": []
   },
   "outputs": [
    {
     "data": {
      "text/html": [
       "<div>\n",
       "<style scoped>\n",
       "    .dataframe tbody tr th:only-of-type {\n",
       "        vertical-align: middle;\n",
       "    }\n",
       "\n",
       "    .dataframe tbody tr th {\n",
       "        vertical-align: top;\n",
       "    }\n",
       "\n",
       "    .dataframe thead th {\n",
       "        text-align: right;\n",
       "    }\n",
       "</style>\n",
       "<table border=\"1\" class=\"dataframe\">\n",
       "  <thead>\n",
       "    <tr style=\"text-align: right;\">\n",
       "      <th></th>\n",
       "      <th>country</th>\n",
       "      <th>store</th>\n",
       "      <th>product</th>\n",
       "      <th>num_sold</th>\n",
       "    </tr>\n",
       "  </thead>\n",
       "  <tbody>\n",
       "    <tr>\n",
       "      <th>0</th>\n",
       "      <td>Argentina</td>\n",
       "      <td>Kaggle Learn</td>\n",
       "      <td>Using LLMs to Improve Your Coding</td>\n",
       "      <td>63</td>\n",
       "    </tr>\n",
       "    <tr>\n",
       "      <th>1</th>\n",
       "      <td>Argentina</td>\n",
       "      <td>Kaggle Learn</td>\n",
       "      <td>Using LLMs to Train More LLMs</td>\n",
       "      <td>66</td>\n",
       "    </tr>\n",
       "    <tr>\n",
       "      <th>2</th>\n",
       "      <td>Argentina</td>\n",
       "      <td>Kaggle Learn</td>\n",
       "      <td>Using LLMs to Win Friends and Influence People</td>\n",
       "      <td>9</td>\n",
       "    </tr>\n",
       "    <tr>\n",
       "      <th>3</th>\n",
       "      <td>Argentina</td>\n",
       "      <td>Kaggle Learn</td>\n",
       "      <td>Using LLMs to Win More Kaggle Competitions</td>\n",
       "      <td>59</td>\n",
       "    </tr>\n",
       "    <tr>\n",
       "      <th>4</th>\n",
       "      <td>Argentina</td>\n",
       "      <td>Kaggle Learn</td>\n",
       "      <td>Using LLMs to Write Better</td>\n",
       "      <td>49</td>\n",
       "    </tr>\n",
       "    <tr>\n",
       "      <th>...</th>\n",
       "      <td>...</td>\n",
       "      <td>...</td>\n",
       "      <td>...</td>\n",
       "      <td>...</td>\n",
       "    </tr>\n",
       "    <tr>\n",
       "      <th>136945</th>\n",
       "      <td>Spain</td>\n",
       "      <td>Kagglazon</td>\n",
       "      <td>Using LLMs to Improve Your Coding</td>\n",
       "      <td>700</td>\n",
       "    </tr>\n",
       "    <tr>\n",
       "      <th>136946</th>\n",
       "      <td>Spain</td>\n",
       "      <td>Kagglazon</td>\n",
       "      <td>Using LLMs to Train More LLMs</td>\n",
       "      <td>752</td>\n",
       "    </tr>\n",
       "    <tr>\n",
       "      <th>136947</th>\n",
       "      <td>Spain</td>\n",
       "      <td>Kagglazon</td>\n",
       "      <td>Using LLMs to Win Friends and Influence People</td>\n",
       "      <td>111</td>\n",
       "    </tr>\n",
       "    <tr>\n",
       "      <th>136948</th>\n",
       "      <td>Spain</td>\n",
       "      <td>Kagglazon</td>\n",
       "      <td>Using LLMs to Win More Kaggle Competitions</td>\n",
       "      <td>641</td>\n",
       "    </tr>\n",
       "    <tr>\n",
       "      <th>136949</th>\n",
       "      <td>Spain</td>\n",
       "      <td>Kagglazon</td>\n",
       "      <td>Using LLMs to Write Better</td>\n",
       "      <td>539</td>\n",
       "    </tr>\n",
       "  </tbody>\n",
       "</table>\n",
       "<p>136950 rows × 4 columns</p>\n",
       "</div>"
      ],
      "text/plain": [
       "          country         store  \\\n",
       "0       Argentina  Kaggle Learn   \n",
       "1       Argentina  Kaggle Learn   \n",
       "2       Argentina  Kaggle Learn   \n",
       "3       Argentina  Kaggle Learn   \n",
       "4       Argentina  Kaggle Learn   \n",
       "...           ...           ...   \n",
       "136945      Spain     Kagglazon   \n",
       "136946      Spain     Kagglazon   \n",
       "136947      Spain     Kagglazon   \n",
       "136948      Spain     Kagglazon   \n",
       "136949      Spain     Kagglazon   \n",
       "\n",
       "                                               product  num_sold  \n",
       "0                    Using LLMs to Improve Your Coding        63  \n",
       "1                        Using LLMs to Train More LLMs        66  \n",
       "2       Using LLMs to Win Friends and Influence People         9  \n",
       "3           Using LLMs to Win More Kaggle Competitions        59  \n",
       "4                           Using LLMs to Write Better        49  \n",
       "...                                                ...       ...  \n",
       "136945               Using LLMs to Improve Your Coding       700  \n",
       "136946                   Using LLMs to Train More LLMs       752  \n",
       "136947  Using LLMs to Win Friends and Influence People       111  \n",
       "136948      Using LLMs to Win More Kaggle Competitions       641  \n",
       "136949                      Using LLMs to Write Better       539  \n",
       "\n",
       "[136950 rows x 4 columns]"
      ]
     },
     "execution_count": 5,
     "metadata": {},
     "output_type": "execute_result"
    }
   ],
   "source": [
    "df"
   ]
  },
  {
   "cell_type": "code",
   "execution_count": 6,
   "id": "396461c3",
   "metadata": {
    "execution": {
     "iopub.execute_input": "2023-07-19T04:54:14.158912Z",
     "iopub.status.busy": "2023-07-19T04:54:14.158149Z",
     "iopub.status.idle": "2023-07-19T04:54:14.175223Z",
     "shell.execute_reply": "2023-07-19T04:54:14.174184Z"
    },
    "papermill": {
     "duration": 0.027016,
     "end_time": "2023-07-19T04:54:14.177266",
     "exception": false,
     "start_time": "2023-07-19T04:54:14.150250",
     "status": "completed"
    },
    "tags": []
   },
   "outputs": [
    {
     "data": {
      "text/plain": [
       "array(['Argentina', 'Canada', 'Estonia', 'Japan', 'Spain'], dtype=object)"
      ]
     },
     "execution_count": 6,
     "metadata": {},
     "output_type": "execute_result"
    }
   ],
   "source": [
    "df[\"country\"].unique()"
   ]
  },
  {
   "cell_type": "code",
   "execution_count": 7,
   "id": "89cb8d52",
   "metadata": {
    "execution": {
     "iopub.execute_input": "2023-07-19T04:54:14.192708Z",
     "iopub.status.busy": "2023-07-19T04:54:14.192082Z",
     "iopub.status.idle": "2023-07-19T04:54:14.207369Z",
     "shell.execute_reply": "2023-07-19T04:54:14.206179Z"
    },
    "papermill": {
     "duration": 0.025718,
     "end_time": "2023-07-19T04:54:14.209784",
     "exception": false,
     "start_time": "2023-07-19T04:54:14.184066",
     "status": "completed"
    },
    "tags": []
   },
   "outputs": [
    {
     "data": {
      "text/plain": [
       "array(['Kaggle Learn', 'Kaggle Store', 'Kagglazon'], dtype=object)"
      ]
     },
     "execution_count": 7,
     "metadata": {},
     "output_type": "execute_result"
    }
   ],
   "source": [
    "df[\"store\"].unique()"
   ]
  },
  {
   "cell_type": "code",
   "execution_count": 8,
   "id": "fc424e22",
   "metadata": {
    "execution": {
     "iopub.execute_input": "2023-07-19T04:54:14.225679Z",
     "iopub.status.busy": "2023-07-19T04:54:14.225281Z",
     "iopub.status.idle": "2023-07-19T04:54:14.244266Z",
     "shell.execute_reply": "2023-07-19T04:54:14.242921Z"
    },
    "papermill": {
     "duration": 0.029518,
     "end_time": "2023-07-19T04:54:14.246514",
     "exception": false,
     "start_time": "2023-07-19T04:54:14.216996",
     "status": "completed"
    },
    "tags": []
   },
   "outputs": [
    {
     "data": {
      "text/plain": [
       "array(['Using LLMs to Improve Your Coding',\n",
       "       'Using LLMs to Train More LLMs',\n",
       "       'Using LLMs to Win Friends and Influence People',\n",
       "       'Using LLMs to Win More Kaggle Competitions',\n",
       "       'Using LLMs to Write Better'], dtype=object)"
      ]
     },
     "execution_count": 8,
     "metadata": {},
     "output_type": "execute_result"
    }
   ],
   "source": [
    "df[\"product\"].unique()"
   ]
  },
  {
   "cell_type": "code",
   "execution_count": 9,
   "id": "b09316fe",
   "metadata": {
    "execution": {
     "iopub.execute_input": "2023-07-19T04:54:14.262515Z",
     "iopub.status.busy": "2023-07-19T04:54:14.262137Z",
     "iopub.status.idle": "2023-07-19T04:54:14.308829Z",
     "shell.execute_reply": "2023-07-19T04:54:14.307599Z"
    },
    "papermill": {
     "duration": 0.057677,
     "end_time": "2023-07-19T04:54:14.311343",
     "exception": false,
     "start_time": "2023-07-19T04:54:14.253666",
     "status": "completed"
    },
    "tags": []
   },
   "outputs": [],
   "source": [
    "df[\"country\"] = pd.factorize(df[\"country\"])[0] + 1\n",
    "df[\"store\"] = pd.factorize(df[\"store\"])[0] + 1\n",
    "df[\"product\"] = pd.factorize(df[\"product\"])[0] + 1"
   ]
  },
  {
   "cell_type": "code",
   "execution_count": 10,
   "id": "612630a3",
   "metadata": {
    "execution": {
     "iopub.execute_input": "2023-07-19T04:54:14.328682Z",
     "iopub.status.busy": "2023-07-19T04:54:14.327936Z",
     "iopub.status.idle": "2023-07-19T04:54:14.340337Z",
     "shell.execute_reply": "2023-07-19T04:54:14.339188Z"
    },
    "papermill": {
     "duration": 0.023834,
     "end_time": "2023-07-19T04:54:14.342535",
     "exception": false,
     "start_time": "2023-07-19T04:54:14.318701",
     "status": "completed"
    },
    "tags": []
   },
   "outputs": [
    {
     "data": {
      "text/html": [
       "<div>\n",
       "<style scoped>\n",
       "    .dataframe tbody tr th:only-of-type {\n",
       "        vertical-align: middle;\n",
       "    }\n",
       "\n",
       "    .dataframe tbody tr th {\n",
       "        vertical-align: top;\n",
       "    }\n",
       "\n",
       "    .dataframe thead th {\n",
       "        text-align: right;\n",
       "    }\n",
       "</style>\n",
       "<table border=\"1\" class=\"dataframe\">\n",
       "  <thead>\n",
       "    <tr style=\"text-align: right;\">\n",
       "      <th></th>\n",
       "      <th>country</th>\n",
       "      <th>store</th>\n",
       "      <th>product</th>\n",
       "      <th>num_sold</th>\n",
       "    </tr>\n",
       "  </thead>\n",
       "  <tbody>\n",
       "    <tr>\n",
       "      <th>0</th>\n",
       "      <td>1</td>\n",
       "      <td>1</td>\n",
       "      <td>1</td>\n",
       "      <td>63</td>\n",
       "    </tr>\n",
       "    <tr>\n",
       "      <th>1</th>\n",
       "      <td>1</td>\n",
       "      <td>1</td>\n",
       "      <td>2</td>\n",
       "      <td>66</td>\n",
       "    </tr>\n",
       "    <tr>\n",
       "      <th>2</th>\n",
       "      <td>1</td>\n",
       "      <td>1</td>\n",
       "      <td>3</td>\n",
       "      <td>9</td>\n",
       "    </tr>\n",
       "    <tr>\n",
       "      <th>3</th>\n",
       "      <td>1</td>\n",
       "      <td>1</td>\n",
       "      <td>4</td>\n",
       "      <td>59</td>\n",
       "    </tr>\n",
       "    <tr>\n",
       "      <th>4</th>\n",
       "      <td>1</td>\n",
       "      <td>1</td>\n",
       "      <td>5</td>\n",
       "      <td>49</td>\n",
       "    </tr>\n",
       "    <tr>\n",
       "      <th>...</th>\n",
       "      <td>...</td>\n",
       "      <td>...</td>\n",
       "      <td>...</td>\n",
       "      <td>...</td>\n",
       "    </tr>\n",
       "    <tr>\n",
       "      <th>136945</th>\n",
       "      <td>5</td>\n",
       "      <td>3</td>\n",
       "      <td>1</td>\n",
       "      <td>700</td>\n",
       "    </tr>\n",
       "    <tr>\n",
       "      <th>136946</th>\n",
       "      <td>5</td>\n",
       "      <td>3</td>\n",
       "      <td>2</td>\n",
       "      <td>752</td>\n",
       "    </tr>\n",
       "    <tr>\n",
       "      <th>136947</th>\n",
       "      <td>5</td>\n",
       "      <td>3</td>\n",
       "      <td>3</td>\n",
       "      <td>111</td>\n",
       "    </tr>\n",
       "    <tr>\n",
       "      <th>136948</th>\n",
       "      <td>5</td>\n",
       "      <td>3</td>\n",
       "      <td>4</td>\n",
       "      <td>641</td>\n",
       "    </tr>\n",
       "    <tr>\n",
       "      <th>136949</th>\n",
       "      <td>5</td>\n",
       "      <td>3</td>\n",
       "      <td>5</td>\n",
       "      <td>539</td>\n",
       "    </tr>\n",
       "  </tbody>\n",
       "</table>\n",
       "<p>136950 rows × 4 columns</p>\n",
       "</div>"
      ],
      "text/plain": [
       "        country  store  product  num_sold\n",
       "0             1      1        1        63\n",
       "1             1      1        2        66\n",
       "2             1      1        3         9\n",
       "3             1      1        4        59\n",
       "4             1      1        5        49\n",
       "...         ...    ...      ...       ...\n",
       "136945        5      3        1       700\n",
       "136946        5      3        2       752\n",
       "136947        5      3        3       111\n",
       "136948        5      3        4       641\n",
       "136949        5      3        5       539\n",
       "\n",
       "[136950 rows x 4 columns]"
      ]
     },
     "execution_count": 10,
     "metadata": {},
     "output_type": "execute_result"
    }
   ],
   "source": [
    "df"
   ]
  },
  {
   "cell_type": "markdown",
   "id": "b5fe3c49",
   "metadata": {
    "papermill": {
     "duration": 0.006946,
     "end_time": "2023-07-19T04:54:14.356940",
     "exception": false,
     "start_time": "2023-07-19T04:54:14.349994",
     "status": "completed"
    },
    "tags": []
   },
   "source": [
    "Correlation check"
   ]
  },
  {
   "cell_type": "code",
   "execution_count": 11,
   "id": "33d22936",
   "metadata": {
    "execution": {
     "iopub.execute_input": "2023-07-19T04:54:14.373754Z",
     "iopub.status.busy": "2023-07-19T04:54:14.373379Z",
     "iopub.status.idle": "2023-07-19T04:54:15.716812Z",
     "shell.execute_reply": "2023-07-19T04:54:15.715599Z"
    },
    "papermill": {
     "duration": 1.355477,
     "end_time": "2023-07-19T04:54:15.719632",
     "exception": false,
     "start_time": "2023-07-19T04:54:14.364155",
     "status": "completed"
    },
    "tags": []
   },
   "outputs": [
    {
     "name": "stderr",
     "output_type": "stream",
     "text": [
      "/opt/conda/lib/python3.10/site-packages/scipy/__init__.py:146: UserWarning: A NumPy version >=1.16.5 and <1.23.0 is required for this version of SciPy (detected version 1.23.5\n",
      "  warnings.warn(f\"A NumPy version >={np_minversion} and <{np_maxversion}\"\n"
     ]
    }
   ],
   "source": [
    "import seaborn as sns"
   ]
  },
  {
   "cell_type": "code",
   "execution_count": 12,
   "id": "02afdbe2",
   "metadata": {
    "execution": {
     "iopub.execute_input": "2023-07-19T04:54:15.736463Z",
     "iopub.status.busy": "2023-07-19T04:54:15.735696Z",
     "iopub.status.idle": "2023-07-19T04:54:15.743894Z",
     "shell.execute_reply": "2023-07-19T04:54:15.743162Z"
    },
    "papermill": {
     "duration": 0.018824,
     "end_time": "2023-07-19T04:54:15.745898",
     "exception": false,
     "start_time": "2023-07-19T04:54:15.727074",
     "status": "completed"
    },
    "tags": []
   },
   "outputs": [],
   "source": [
    "X = df.drop([\"num_sold\"], axis = 1)\n",
    "y = df[\"num_sold\"]"
   ]
  },
  {
   "cell_type": "code",
   "execution_count": 13,
   "id": "623c7281",
   "metadata": {
    "execution": {
     "iopub.execute_input": "2023-07-19T04:54:15.762782Z",
     "iopub.status.busy": "2023-07-19T04:54:15.761921Z",
     "iopub.status.idle": "2023-07-19T04:54:16.077777Z",
     "shell.execute_reply": "2023-07-19T04:54:16.076729Z"
    },
    "papermill": {
     "duration": 0.326847,
     "end_time": "2023-07-19T04:54:16.080072",
     "exception": false,
     "start_time": "2023-07-19T04:54:15.753225",
     "status": "completed"
    },
    "tags": []
   },
   "outputs": [
    {
     "data": {
      "text/plain": [
       "<Axes: >"
      ]
     },
     "execution_count": 13,
     "metadata": {},
     "output_type": "execute_result"
    },
    {
     "data": {
      "image/png": "[encoded data removed]",
      "text/plain": [
       "<Figure size 640x480 with 2 Axes>"
      ]
     },
     "metadata": {},
     "output_type": "display_data"
    }
   ],
   "source": [
    "sns.heatmap(X.corr())\n"
   ]
  },
  {
   "cell_type": "code",
   "execution_count": 14,
   "id": "e65e7dba",
   "metadata": {
    "execution": {
     "iopub.execute_input": "2023-07-19T04:54:16.097687Z",
     "iopub.status.busy": "2023-07-19T04:54:16.097017Z",
     "iopub.status.idle": "2023-07-19T04:54:16.101393Z",
     "shell.execute_reply": "2023-07-19T04:54:16.100378Z"
    },
    "papermill": {
     "duration": 0.015629,
     "end_time": "2023-07-19T04:54:16.103591",
     "exception": false,
     "start_time": "2023-07-19T04:54:16.087962",
     "status": "completed"
    },
    "tags": []
   },
   "outputs": [],
   "source": [
    "# from sklearn.linear_model import LinearRegression"
   ]
  },
  {
   "cell_type": "code",
   "execution_count": 15,
   "id": "2c2238ab",
   "metadata": {
    "execution": {
     "iopub.execute_input": "2023-07-19T04:54:16.120721Z",
     "iopub.status.busy": "2023-07-19T04:54:16.120275Z",
     "iopub.status.idle": "2023-07-19T04:54:16.124950Z",
     "shell.execute_reply": "2023-07-19T04:54:16.123873Z"
    },
    "papermill": {
     "duration": 0.01576,
     "end_time": "2023-07-19T04:54:16.127146",
     "exception": false,
     "start_time": "2023-07-19T04:54:16.111386",
     "status": "completed"
    },
    "tags": []
   },
   "outputs": [],
   "source": [
    "# model = LinearRegression()\n",
    "# model.fit(X, y)"
   ]
  },
  {
   "cell_type": "code",
   "execution_count": 16,
   "id": "f6c800d3",
   "metadata": {
    "execution": {
     "iopub.execute_input": "2023-07-19T04:54:16.144597Z",
     "iopub.status.busy": "2023-07-19T04:54:16.143894Z",
     "iopub.status.idle": "2023-07-19T04:54:16.585618Z",
     "shell.execute_reply": "2023-07-19T04:54:16.584484Z"
    },
    "papermill": {
     "duration": 0.45326,
     "end_time": "2023-07-19T04:54:16.588240",
     "exception": false,
     "start_time": "2023-07-19T04:54:16.134980",
     "status": "completed"
    },
    "tags": []
   },
   "outputs": [],
   "source": [
    "from xgboost import XGBRegressor"
   ]
  },
  {
   "cell_type": "code",
   "execution_count": 17,
   "id": "32c78d54",
   "metadata": {
    "execution": {
     "iopub.execute_input": "2023-07-19T04:54:16.606021Z",
     "iopub.status.busy": "2023-07-19T04:54:16.605631Z",
     "iopub.status.idle": "2023-07-19T04:54:16.610623Z",
     "shell.execute_reply": "2023-07-19T04:54:16.609472Z"
    },
    "papermill": {
     "duration": 0.016353,
     "end_time": "2023-07-19T04:54:16.612934",
     "exception": false,
     "start_time": "2023-07-19T04:54:16.596581",
     "status": "completed"
    },
    "tags": []
   },
   "outputs": [],
   "source": [
    "xgboost_model = XGBRegressor()"
   ]
  },
  {
   "cell_type": "code",
   "execution_count": 18,
   "id": "8bb7580c",
   "metadata": {
    "execution": {
     "iopub.execute_input": "2023-07-19T04:54:16.630662Z",
     "iopub.status.busy": "2023-07-19T04:54:16.630282Z",
     "iopub.status.idle": "2023-07-19T04:54:19.896141Z",
     "shell.execute_reply": "2023-07-19T04:54:19.895066Z"
    },
    "papermill": {
     "duration": 3.277626,
     "end_time": "2023-07-19T04:54:19.898493",
     "exception": false,
     "start_time": "2023-07-19T04:54:16.620867",
     "status": "completed"
    },
    "tags": []
   },
   "outputs": [
    {
     "data": {
      "text/html": [
       "<style>#sk-container-id-1 {color: black;background-color: white;}#sk-container-id-1 pre{padding: 0;}#sk-container-id-1 div.sk-toggleable {background-color: white;}#sk-container-id-1 label.sk-toggleable__label {cursor: pointer;display: block;width: 100%;margin-bottom: 0;padding: 0.3em;box-sizing: border-box;text-align: center;}#sk-container-id-1 label.sk-toggleable__label-arrow:before {content: \"▸\";float: left;margin-right: 0.25em;color: #696969;}#sk-container-id-1 label.sk-toggleable__label-arrow:hover:before {color: black;}#sk-container-id-1 div.sk-estimator:hover label.sk-toggleable__label-arrow:before {color: black;}#sk-container-id-1 div.sk-toggleable__content {max-height: 0;max-width: 0;overflow: hidden;text-align: left;background-color: #f0f8ff;}#sk-container-id-1 div.sk-toggleable__content pre {margin: 0.2em;color: black;border-radius: 0.25em;background-color: #f0f8ff;}#sk-container-id-1 input.sk-toggleable__control:checked~div.sk-toggleable__content {max-height: 200px;max-width: 100%;overflow: auto;}#sk-container-id-1 input.sk-toggleable__control:checked~label.sk-toggleable__label-arrow:before {content: \"▾\";}#sk-container-id-1 div.sk-estimator input.sk-toggleable__control:checked~label.sk-toggleable__label {background-color: #d4ebff;}#sk-container-id-1 div.sk-label input.sk-toggleable__control:checked~label.sk-toggleable__label {background-color: #d4ebff;}#sk-container-id-1 input.sk-hidden--visually {border: 0;clip: rect(1px 1px 1px 1px);clip: rect(1px, 1px, 1px, 1px);height: 1px;margin: -1px;overflow: hidden;padding: 0;position: absolute;width: 1px;}#sk-container-id-1 div.sk-estimator {font-family: monospace;background-color: #f0f8ff;border: 1px dotted black;border-radius: 0.25em;box-sizing: border-box;margin-bottom: 0.5em;}#sk-container-id-1 div.sk-estimator:hover {background-color: #d4ebff;}#sk-container-id-1 div.sk-parallel-item::after {content: \"\";width: 100%;border-bottom: 1px solid gray;flex-grow: 1;}#sk-container-id-1 div.sk-label:hover label.sk-toggleable__label {background-color: #d4ebff;}#sk-container-id-1 div.sk-serial::before {content: \"\";position: absolute;border-left: 1px solid gray;box-sizing: border-box;top: 0;bottom: 0;left: 50%;z-index: 0;}#sk-container-id-1 div.sk-serial {display: flex;flex-direction: column;align-items: center;background-color: white;padding-right: 0.2em;padding-left: 0.2em;position: relative;}#sk-container-id-1 div.sk-item {position: relative;z-index: 1;}#sk-container-id-1 div.sk-parallel {display: flex;align-items: stretch;justify-content: center;background-color: white;position: relative;}#sk-container-id-1 div.sk-item::before, #sk-container-id-1 div.sk-parallel-item::before {content: \"\";position: absolute;border-left: 1px solid gray;box-sizing: border-box;top: 0;bottom: 0;left: 50%;z-index: -1;}#sk-container-id-1 div.sk-parallel-item {display: flex;flex-direction: column;z-index: 1;position: relative;background-color: white;}#sk-container-id-1 div.sk-parallel-item:first-child::after {align-self: flex-end;width: 50%;}#sk-container-id-1 div.sk-parallel-item:last-child::after {align-self: flex-start;width: 50%;}#sk-container-id-1 div.sk-parallel-item:only-child::after {width: 0;}#sk-container-id-1 div.sk-dashed-wrapped {border: 1px dashed gray;margin: 0 0.4em 0.5em 0.4em;box-sizing: border-box;padding-bottom: 0.4em;background-color: white;}#sk-container-id-1 div.sk-label label {font-family: monospace;font-weight: bold;display: inline-block;line-height: 1.2em;}#sk-container-id-1 div.sk-label-container {text-align: center;}#sk-container-id-1 div.sk-container {/* jupyter's `normalize.less` sets `[hidden] { display: none; }` but bootstrap.min.css set `[hidden] { display: none !important; }` so we also need the `!important` here to be able to override the default hidden behavior on the sphinx rendered scikit-learn.org. See: https://github.com/scikit-learn/scikit-learn/issues/21755 */display: inline-block !important;position: relative;}#sk-container-id-1 div.sk-text-repr-fallback {display: none;}</style><div id=\"sk-container-id-1\" class=\"sk-top-container\"><div class=\"sk-text-repr-fallback\"><pre>XGBRegressor(base_score=None, booster=None, callbacks=None,\n",
       "             colsample_bylevel=None, colsample_bynode=None,\n",
       "             colsample_bytree=None, early_stopping_rounds=None,\n",
       "             enable_categorical=False, eval_metric=None, feature_types=None,\n",
       "             gamma=None, gpu_id=None, grow_policy=None, importance_type=None,\n",
       "             interaction_constraints=None, learning_rate=None, max_bin=None,\n",
       "             max_cat_threshold=None, max_cat_to_onehot=None,\n",
       "             max_delta_step=None, max_depth=None, max_leaves=None,\n",
       "             min_child_weight=None, missing=nan, monotone_constraints=None,\n",
       "             n_estimators=100, n_jobs=None, num_parallel_tree=None,\n",
       "             predictor=None, random_state=None, ...)</pre><b>In a Jupyter environment, please rerun this cell to show the HTML representation or trust the notebook. <br />On GitHub, the HTML representation is unable to render, please try loading this page with nbviewer.org.</b></div><div class=\"sk-container\" hidden><div class=\"sk-item\"><div class=\"sk-estimator sk-toggleable\"><input class=\"sk-toggleable__control sk-hidden--visually\" id=\"sk-estimator-id-1\" type=\"checkbox\" checked><label for=\"sk-estimator-id-1\" class=\"sk-toggleable__label sk-toggleable__label-arrow\">XGBRegressor</label><div class=\"sk-toggleable__content\"><pre>XGBRegressor(base_score=None, booster=None, callbacks=None,\n",
       "             colsample_bylevel=None, colsample_bynode=None,\n",
       "             colsample_bytree=None, early_stopping_rounds=None,\n",
       "             enable_categorical=False, eval_metric=None, feature_types=None,\n",
       "             gamma=None, gpu_id=None, grow_policy=None, importance_type=None,\n",
       "             interaction_constraints=None, learning_rate=None, max_bin=None,\n",
       "             max_cat_threshold=None, max_cat_to_onehot=None,\n",
       "             max_delta_step=None, max_depth=None, max_leaves=None,\n",
       "             min_child_weight=None, missing=nan, monotone_constraints=None,\n",
       "             n_estimators=100, n_jobs=None, num_parallel_tree=None,\n",
       "             predictor=None, random_state=None, ...)</pre></div></div></div></div></div>"
      ],
      "text/plain": [
       "XGBRegressor(base_score=None, booster=None, callbacks=None,\n",
       "             colsample_bylevel=None, colsample_bynode=None,\n",
       "             colsample_bytree=None, early_stopping_rounds=None,\n",
       "             enable_categorical=False, eval_metric=None, feature_types=None,\n",
       "             gamma=None, gpu_id=None, grow_policy=None, importance_type=None,\n",
       "             interaction_constraints=None, learning_rate=None, max_bin=None,\n",
       "             max_cat_threshold=None, max_cat_to_onehot=None,\n",
       "             max_delta_step=None, max_depth=None, max_leaves=None,\n",
       "             min_child_weight=None, missing=nan, monotone_constraints=None,\n",
       "             n_estimators=100, n_jobs=None, num_parallel_tree=None,\n",
       "             predictor=None, random_state=None, ...)"
      ]
     },
     "execution_count": 18,
     "metadata": {},
     "output_type": "execute_result"
    }
   ],
   "source": [
    "xgboost_model.fit(X, y)"
   ]
  },
  {
   "cell_type": "code",
   "execution_count": 19,
   "id": "2f95616d",
   "metadata": {
    "execution": {
     "iopub.execute_input": "2023-07-19T04:54:19.917275Z",
     "iopub.status.busy": "2023-07-19T04:54:19.916079Z",
     "iopub.status.idle": "2023-07-19T04:54:19.970241Z",
     "shell.execute_reply": "2023-07-19T04:54:19.969334Z"
    },
    "papermill": {
     "duration": 0.066062,
     "end_time": "2023-07-19T04:54:19.972662",
     "exception": false,
     "start_time": "2023-07-19T04:54:19.906600",
     "status": "completed"
    },
    "tags": []
   },
   "outputs": [],
   "source": [
    "test_df = pd.read_csv(\"/kaggle/input/playground-series-s3e19/test.csv\")"
   ]
  },
  {
   "cell_type": "code",
   "execution_count": 20,
   "id": "b949f2be",
   "metadata": {
    "execution": {
     "iopub.execute_input": "2023-07-19T04:54:19.991190Z",
     "iopub.status.busy": "2023-07-19T04:54:19.990788Z",
     "iopub.status.idle": "2023-07-19T04:54:20.008864Z",
     "shell.execute_reply": "2023-07-19T04:54:20.007675Z"
    },
    "papermill": {
     "duration": 0.030392,
     "end_time": "2023-07-19T04:54:20.011431",
     "exception": false,
     "start_time": "2023-07-19T04:54:19.981039",
     "status": "completed"
    },
    "tags": []
   },
   "outputs": [],
   "source": [
    "test_df[\"country\"] = pd.factorize(test_df[\"country\"])[0] + 1\n",
    "test_df[\"store\"] = pd.factorize(test_df[\"store\"])[0] + 1\n",
    "test_df[\"product\"] = pd.factorize(test_df[\"product\"])[0] + 1\n",
    "test_ids = test_df[\"id\"]\n",
    "test_df = test_df.drop([\"id\", \"date\"], axis=1)"
   ]
  },
  {
   "cell_type": "code",
   "execution_count": 21,
   "id": "63a100c0",
   "metadata": {
    "execution": {
     "iopub.execute_input": "2023-07-19T04:54:20.029460Z",
     "iopub.status.busy": "2023-07-19T04:54:20.029065Z",
     "iopub.status.idle": "2023-07-19T04:54:20.033634Z",
     "shell.execute_reply": "2023-07-19T04:54:20.032498Z"
    },
    "papermill": {
     "duration": 0.015818,
     "end_time": "2023-07-19T04:54:20.035598",
     "exception": false,
     "start_time": "2023-07-19T04:54:20.019780",
     "status": "completed"
    },
    "tags": []
   },
   "outputs": [],
   "source": [
    "# result = model.predict(test_df)"
   ]
  },
  {
   "cell_type": "code",
   "execution_count": 22,
   "id": "14e8980c",
   "metadata": {
    "execution": {
     "iopub.execute_input": "2023-07-19T04:54:20.053781Z",
     "iopub.status.busy": "2023-07-19T04:54:20.053135Z",
     "iopub.status.idle": "2023-07-19T04:54:20.080999Z",
     "shell.execute_reply": "2023-07-19T04:54:20.080137Z"
    },
    "papermill": {
     "duration": 0.039765,
     "end_time": "2023-07-19T04:54:20.083418",
     "exception": false,
     "start_time": "2023-07-19T04:54:20.043653",
     "status": "completed"
    },
    "tags": []
   },
   "outputs": [],
   "source": [
    "xdg_result = xgboost_model.predict(test_df)"
   ]
  },
  {
   "cell_type": "code",
   "execution_count": 23,
   "id": "839009b1",
   "metadata": {
    "execution": {
     "iopub.execute_input": "2023-07-19T04:54:20.101858Z",
     "iopub.status.busy": "2023-07-19T04:54:20.101233Z",
     "iopub.status.idle": "2023-07-19T04:54:20.108046Z",
     "shell.execute_reply": "2023-07-19T04:54:20.107082Z"
    },
    "papermill": {
     "duration": 0.018534,
     "end_time": "2023-07-19T04:54:20.110271",
     "exception": false,
     "start_time": "2023-07-19T04:54:20.091737",
     "status": "completed"
    },
    "tags": []
   },
   "outputs": [
    {
     "data": {
      "text/plain": [
       "array([ 29.885544 ,  29.507668 ,   4.2376695, ...,  68.59521  ,\n",
       "       370.5192   , 336.62598  ], dtype=float32)"
      ]
     },
     "execution_count": 23,
     "metadata": {},
     "output_type": "execute_result"
    }
   ],
   "source": [
    "xdg_result"
   ]
  },
  {
   "cell_type": "code",
   "execution_count": 24,
   "id": "69737b5c",
   "metadata": {
    "execution": {
     "iopub.execute_input": "2023-07-19T04:54:20.129057Z",
     "iopub.status.busy": "2023-07-19T04:54:20.128307Z",
     "iopub.status.idle": "2023-07-19T04:54:20.143838Z",
     "shell.execute_reply": "2023-07-19T04:54:20.142988Z"
    },
    "papermill": {
     "duration": 0.027261,
     "end_time": "2023-07-19T04:54:20.145891",
     "exception": false,
     "start_time": "2023-07-19T04:54:20.118630",
     "status": "completed"
    },
    "tags": []
   },
   "outputs": [],
   "source": [
    "true_result = []\n",
    "for i in range(len(xdg_result)):\n",
    "    true_result.append(int(xdg_result[i]))"
   ]
  },
  {
   "cell_type": "code",
   "execution_count": 25,
   "id": "393f86e9",
   "metadata": {
    "execution": {
     "iopub.execute_input": "2023-07-19T04:54:20.163881Z",
     "iopub.status.busy": "2023-07-19T04:54:20.163483Z",
     "iopub.status.idle": "2023-07-19T04:54:20.230259Z",
     "shell.execute_reply": "2023-07-19T04:54:20.229098Z"
    },
    "papermill": {
     "duration": 0.078676,
     "end_time": "2023-07-19T04:54:20.232851",
     "exception": false,
     "start_time": "2023-07-19T04:54:20.154175",
     "status": "completed"
    },
    "tags": []
   },
   "outputs": [],
   "source": [
    "submission_list = pd.DataFrame(list(zip(test_ids, true_result)), columns=[\"id\", \"num_sold\"]) \n",
    "submission_list.to_csv(\"submission.csv\", index=False)"
   ]
  },
  {
   "cell_type": "code",
   "execution_count": null,
   "id": "eada6a10",
   "metadata": {
    "papermill": {
     "duration": 0.007844,
     "end_time": "2023-07-19T04:54:20.249063",
     "exception": false,
     "start_time": "2023-07-19T04:54:20.241219",
     "status": "completed"
    },
    "tags": []
   },
   "outputs": [],
   "source": []
  }
 ],
 "metadata": {
  "kernelspec": {
   "display_name": "Python 3",
   "language": "python",
   "name": "python3"
  },
  "language_info": {
   "codemirror_mode": {
    "name": "ipython",
    "version": 3
   },
   "file_extension": ".py",
   "mimetype": "text/x-python",
   "name": "python",
   "nbconvert_exporter": "python",
   "pygments_lexer": "ipython3",
   "version": "3.10.12"
  },
  "papermill": {
   "default_parameters": {},
   "duration": 16.865683,
   "end_time": "2023-07-19T04:54:21.179304",
   "environment_variables": {},
   "exception": null,
   "input_path": "__notebook__.ipynb",
   "output_path": "__notebook__.ipynb",
   "parameters": {},
   "start_time": "2023-07-19T04:54:04.313621",
   "version": "2.4.0"
  }
 },
 "nbformat": 4,
 "nbformat_minor": 5
}

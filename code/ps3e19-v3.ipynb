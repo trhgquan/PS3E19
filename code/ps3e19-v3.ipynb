{
 "cells": [
  {
   "cell_type": "code",
   "execution_count": 1,
   "id": "08f85923",
   "metadata": {
    "_cell_guid": "b1076dfc-b9ad-4769-8c92-a6c4dae69d19",
    "_uuid": "8f2839f25d086af736a60e9eeb907d3b93b6e0e5",
    "execution": {
     "iopub.execute_input": "2023-07-19T05:01:48.345466Z",
     "iopub.status.busy": "2023-07-19T05:01:48.345075Z",
     "iopub.status.idle": "2023-07-19T05:01:48.360801Z",
     "shell.execute_reply": "2023-07-19T05:01:48.359427Z"
    },
    "papermill": {
     "duration": 0.028797,
     "end_time": "2023-07-19T05:01:48.363318",
     "exception": false,
     "start_time": "2023-07-19T05:01:48.334521",
     "status": "completed"
    },
    "tags": []
   },
   "outputs": [
    {
     "name": "stdout",
     "output_type": "stream",
     "text": [
      "/kaggle/input/playground-series-s3e19/sample_submission.csv\n",
      "/kaggle/input/playground-series-s3e19/train.csv\n",
      "/kaggle/input/playground-series-s3e19/test.csv\n"
     ]
    }
   ],
   "source": [
    "# This Python 3 environment comes with many helpful analytics libraries installed\n",
    "# It is defined by the kaggle/python Docker image: https://github.com/kaggle/docker-python\n",
    "# For example, here's several helpful packages to load\n",
    "\n",
    "import numpy as np # linear algebra\n",
    "import pandas as pd # data processing, CSV file I/O (e.g. pd.read_csv)\n",
    "\n",
    "# Input data files are available in the read-only \"../input/\" directory\n",
    "# For example, running this (by clicking run or pressing Shift+Enter) will list all files under the input directory\n",
    "\n",
    "import os\n",
    "for dirname, _, filenames in os.walk('/kaggle/input'):\n",
    "    for filename in filenames:\n",
    "        print(os.path.join(dirname, filename))\n",
    "\n",
    "# You can write up to 20GB to the current directory (/kaggle/working/) that gets preserved as output when you create a version using \"Save & Run All\" \n",
    "# You can also write temporary files to /kaggle/temp/, but they won't be saved outside of the current session"
   ]
  },
  {
   "cell_type": "code",
   "execution_count": 2,
   "id": "a41a0209",
   "metadata": {
    "execution": {
     "iopub.execute_input": "2023-07-19T05:01:48.382721Z",
     "iopub.status.busy": "2023-07-19T05:01:48.381870Z",
     "iopub.status.idle": "2023-07-19T05:01:48.667792Z",
     "shell.execute_reply": "2023-07-19T05:01:48.666764Z"
    },
    "papermill": {
     "duration": 0.298146,
     "end_time": "2023-07-19T05:01:48.670328",
     "exception": false,
     "start_time": "2023-07-19T05:01:48.372182",
     "status": "completed"
    },
    "tags": []
   },
   "outputs": [],
   "source": [
    "df = pd.read_csv(\"/kaggle/input/playground-series-s3e19/train.csv\")"
   ]
  },
  {
   "cell_type": "code",
   "execution_count": 3,
   "id": "92bf0960",
   "metadata": {
    "execution": {
     "iopub.execute_input": "2023-07-19T05:01:48.689375Z",
     "iopub.status.busy": "2023-07-19T05:01:48.688492Z",
     "iopub.status.idle": "2023-07-19T05:01:48.721707Z",
     "shell.execute_reply": "2023-07-19T05:01:48.720609Z"
    },
    "papermill": {
     "duration": 0.045382,
     "end_time": "2023-07-19T05:01:48.724196",
     "exception": false,
     "start_time": "2023-07-19T05:01:48.678814",
     "status": "completed"
    },
    "tags": []
   },
   "outputs": [
    {
     "data": {
      "text/html": [
       "<div>\n",
       "<style scoped>\n",
       "    .dataframe tbody tr th:only-of-type {\n",
       "        vertical-align: middle;\n",
       "    }\n",
       "\n",
       "    .dataframe tbody tr th {\n",
       "        vertical-align: top;\n",
       "    }\n",
       "\n",
       "    .dataframe thead th {\n",
       "        text-align: right;\n",
       "    }\n",
       "</style>\n",
       "<table border=\"1\" class=\"dataframe\">\n",
       "  <thead>\n",
       "    <tr style=\"text-align: right;\">\n",
       "      <th></th>\n",
       "      <th>id</th>\n",
       "      <th>date</th>\n",
       "      <th>country</th>\n",
       "      <th>store</th>\n",
       "      <th>product</th>\n",
       "      <th>num_sold</th>\n",
       "    </tr>\n",
       "  </thead>\n",
       "  <tbody>\n",
       "    <tr>\n",
       "      <th>0</th>\n",
       "      <td>0</td>\n",
       "      <td>2017-01-01</td>\n",
       "      <td>Argentina</td>\n",
       "      <td>Kaggle Learn</td>\n",
       "      <td>Using LLMs to Improve Your Coding</td>\n",
       "      <td>63</td>\n",
       "    </tr>\n",
       "    <tr>\n",
       "      <th>1</th>\n",
       "      <td>1</td>\n",
       "      <td>2017-01-01</td>\n",
       "      <td>Argentina</td>\n",
       "      <td>Kaggle Learn</td>\n",
       "      <td>Using LLMs to Train More LLMs</td>\n",
       "      <td>66</td>\n",
       "    </tr>\n",
       "    <tr>\n",
       "      <th>2</th>\n",
       "      <td>2</td>\n",
       "      <td>2017-01-01</td>\n",
       "      <td>Argentina</td>\n",
       "      <td>Kaggle Learn</td>\n",
       "      <td>Using LLMs to Win Friends and Influence People</td>\n",
       "      <td>9</td>\n",
       "    </tr>\n",
       "    <tr>\n",
       "      <th>3</th>\n",
       "      <td>3</td>\n",
       "      <td>2017-01-01</td>\n",
       "      <td>Argentina</td>\n",
       "      <td>Kaggle Learn</td>\n",
       "      <td>Using LLMs to Win More Kaggle Competitions</td>\n",
       "      <td>59</td>\n",
       "    </tr>\n",
       "    <tr>\n",
       "      <th>4</th>\n",
       "      <td>4</td>\n",
       "      <td>2017-01-01</td>\n",
       "      <td>Argentina</td>\n",
       "      <td>Kaggle Learn</td>\n",
       "      <td>Using LLMs to Write Better</td>\n",
       "      <td>49</td>\n",
       "    </tr>\n",
       "    <tr>\n",
       "      <th>...</th>\n",
       "      <td>...</td>\n",
       "      <td>...</td>\n",
       "      <td>...</td>\n",
       "      <td>...</td>\n",
       "      <td>...</td>\n",
       "      <td>...</td>\n",
       "    </tr>\n",
       "    <tr>\n",
       "      <th>136945</th>\n",
       "      <td>136945</td>\n",
       "      <td>2021-12-31</td>\n",
       "      <td>Spain</td>\n",
       "      <td>Kagglazon</td>\n",
       "      <td>Using LLMs to Improve Your Coding</td>\n",
       "      <td>700</td>\n",
       "    </tr>\n",
       "    <tr>\n",
       "      <th>136946</th>\n",
       "      <td>136946</td>\n",
       "      <td>2021-12-31</td>\n",
       "      <td>Spain</td>\n",
       "      <td>Kagglazon</td>\n",
       "      <td>Using LLMs to Train More LLMs</td>\n",
       "      <td>752</td>\n",
       "    </tr>\n",
       "    <tr>\n",
       "      <th>136947</th>\n",
       "      <td>136947</td>\n",
       "      <td>2021-12-31</td>\n",
       "      <td>Spain</td>\n",
       "      <td>Kagglazon</td>\n",
       "      <td>Using LLMs to Win Friends and Influence People</td>\n",
       "      <td>111</td>\n",
       "    </tr>\n",
       "    <tr>\n",
       "      <th>136948</th>\n",
       "      <td>136948</td>\n",
       "      <td>2021-12-31</td>\n",
       "      <td>Spain</td>\n",
       "      <td>Kagglazon</td>\n",
       "      <td>Using LLMs to Win More Kaggle Competitions</td>\n",
       "      <td>641</td>\n",
       "    </tr>\n",
       "    <tr>\n",
       "      <th>136949</th>\n",
       "      <td>136949</td>\n",
       "      <td>2021-12-31</td>\n",
       "      <td>Spain</td>\n",
       "      <td>Kagglazon</td>\n",
       "      <td>Using LLMs to Write Better</td>\n",
       "      <td>539</td>\n",
       "    </tr>\n",
       "  </tbody>\n",
       "</table>\n",
       "<p>136950 rows × 6 columns</p>\n",
       "</div>"
      ],
      "text/plain": [
       "            id        date    country         store  \\\n",
       "0            0  2017-01-01  Argentina  Kaggle Learn   \n",
       "1            1  2017-01-01  Argentina  Kaggle Learn   \n",
       "2            2  2017-01-01  Argentina  Kaggle Learn   \n",
       "3            3  2017-01-01  Argentina  Kaggle Learn   \n",
       "4            4  2017-01-01  Argentina  Kaggle Learn   \n",
       "...        ...         ...        ...           ...   \n",
       "136945  136945  2021-12-31      Spain     Kagglazon   \n",
       "136946  136946  2021-12-31      Spain     Kagglazon   \n",
       "136947  136947  2021-12-31      Spain     Kagglazon   \n",
       "136948  136948  2021-12-31      Spain     Kagglazon   \n",
       "136949  136949  2021-12-31      Spain     Kagglazon   \n",
       "\n",
       "                                               product  num_sold  \n",
       "0                    Using LLMs to Improve Your Coding        63  \n",
       "1                        Using LLMs to Train More LLMs        66  \n",
       "2       Using LLMs to Win Friends and Influence People         9  \n",
       "3           Using LLMs to Win More Kaggle Competitions        59  \n",
       "4                           Using LLMs to Write Better        49  \n",
       "...                                                ...       ...  \n",
       "136945               Using LLMs to Improve Your Coding       700  \n",
       "136946                   Using LLMs to Train More LLMs       752  \n",
       "136947  Using LLMs to Win Friends and Influence People       111  \n",
       "136948      Using LLMs to Win More Kaggle Competitions       641  \n",
       "136949                      Using LLMs to Write Better       539  \n",
       "\n",
       "[136950 rows x 6 columns]"
      ]
     },
     "execution_count": 3,
     "metadata": {},
     "output_type": "execute_result"
    }
   ],
   "source": [
    "df"
   ]
  },
  {
   "cell_type": "code",
   "execution_count": 4,
   "id": "6766086d",
   "metadata": {
    "execution": {
     "iopub.execute_input": "2023-07-19T05:01:48.743597Z",
     "iopub.status.busy": "2023-07-19T05:01:48.743215Z",
     "iopub.status.idle": "2023-07-19T05:01:48.755615Z",
     "shell.execute_reply": "2023-07-19T05:01:48.754377Z"
    },
    "papermill": {
     "duration": 0.025273,
     "end_time": "2023-07-19T05:01:48.758279",
     "exception": false,
     "start_time": "2023-07-19T05:01:48.733006",
     "status": "completed"
    },
    "tags": []
   },
   "outputs": [],
   "source": [
    "df = df.drop([\"id\", \"date\"], axis = 1)"
   ]
  },
  {
   "cell_type": "code",
   "execution_count": 5,
   "id": "4f0145e3",
   "metadata": {
    "execution": {
     "iopub.execute_input": "2023-07-19T05:01:48.780123Z",
     "iopub.status.busy": "2023-07-19T05:01:48.778936Z",
     "iopub.status.idle": "2023-07-19T05:01:48.793210Z",
     "shell.execute_reply": "2023-07-19T05:01:48.791766Z"
    },
    "papermill": {
     "duration": 0.026945,
     "end_time": "2023-07-19T05:01:48.795735",
     "exception": false,
     "start_time": "2023-07-19T05:01:48.768790",
     "status": "completed"
    },
    "tags": []
   },
   "outputs": [
    {
     "data": {
      "text/html": [
       "<div>\n",
       "<style scoped>\n",
       "    .dataframe tbody tr th:only-of-type {\n",
       "        vertical-align: middle;\n",
       "    }\n",
       "\n",
       "    .dataframe tbody tr th {\n",
       "        vertical-align: top;\n",
       "    }\n",
       "\n",
       "    .dataframe thead th {\n",
       "        text-align: right;\n",
       "    }\n",
       "</style>\n",
       "<table border=\"1\" class=\"dataframe\">\n",
       "  <thead>\n",
       "    <tr style=\"text-align: right;\">\n",
       "      <th></th>\n",
       "      <th>country</th>\n",
       "      <th>store</th>\n",
       "      <th>product</th>\n",
       "      <th>num_sold</th>\n",
       "    </tr>\n",
       "  </thead>\n",
       "  <tbody>\n",
       "    <tr>\n",
       "      <th>0</th>\n",
       "      <td>Argentina</td>\n",
       "      <td>Kaggle Learn</td>\n",
       "      <td>Using LLMs to Improve Your Coding</td>\n",
       "      <td>63</td>\n",
       "    </tr>\n",
       "    <tr>\n",
       "      <th>1</th>\n",
       "      <td>Argentina</td>\n",
       "      <td>Kaggle Learn</td>\n",
       "      <td>Using LLMs to Train More LLMs</td>\n",
       "      <td>66</td>\n",
       "    </tr>\n",
       "    <tr>\n",
       "      <th>2</th>\n",
       "      <td>Argentina</td>\n",
       "      <td>Kaggle Learn</td>\n",
       "      <td>Using LLMs to Win Friends and Influence People</td>\n",
       "      <td>9</td>\n",
       "    </tr>\n",
       "    <tr>\n",
       "      <th>3</th>\n",
       "      <td>Argentina</td>\n",
       "      <td>Kaggle Learn</td>\n",
       "      <td>Using LLMs to Win More Kaggle Competitions</td>\n",
       "      <td>59</td>\n",
       "    </tr>\n",
       "    <tr>\n",
       "      <th>4</th>\n",
       "      <td>Argentina</td>\n",
       "      <td>Kaggle Learn</td>\n",
       "      <td>Using LLMs to Write Better</td>\n",
       "      <td>49</td>\n",
       "    </tr>\n",
       "    <tr>\n",
       "      <th>...</th>\n",
       "      <td>...</td>\n",
       "      <td>...</td>\n",
       "      <td>...</td>\n",
       "      <td>...</td>\n",
       "    </tr>\n",
       "    <tr>\n",
       "      <th>136945</th>\n",
       "      <td>Spain</td>\n",
       "      <td>Kagglazon</td>\n",
       "      <td>Using LLMs to Improve Your Coding</td>\n",
       "      <td>700</td>\n",
       "    </tr>\n",
       "    <tr>\n",
       "      <th>136946</th>\n",
       "      <td>Spain</td>\n",
       "      <td>Kagglazon</td>\n",
       "      <td>Using LLMs to Train More LLMs</td>\n",
       "      <td>752</td>\n",
       "    </tr>\n",
       "    <tr>\n",
       "      <th>136947</th>\n",
       "      <td>Spain</td>\n",
       "      <td>Kagglazon</td>\n",
       "      <td>Using LLMs to Win Friends and Influence People</td>\n",
       "      <td>111</td>\n",
       "    </tr>\n",
       "    <tr>\n",
       "      <th>136948</th>\n",
       "      <td>Spain</td>\n",
       "      <td>Kagglazon</td>\n",
       "      <td>Using LLMs to Win More Kaggle Competitions</td>\n",
       "      <td>641</td>\n",
       "    </tr>\n",
       "    <tr>\n",
       "      <th>136949</th>\n",
       "      <td>Spain</td>\n",
       "      <td>Kagglazon</td>\n",
       "      <td>Using LLMs to Write Better</td>\n",
       "      <td>539</td>\n",
       "    </tr>\n",
       "  </tbody>\n",
       "</table>\n",
       "<p>136950 rows × 4 columns</p>\n",
       "</div>"
      ],
      "text/plain": [
       "          country         store  \\\n",
       "0       Argentina  Kaggle Learn   \n",
       "1       Argentina  Kaggle Learn   \n",
       "2       Argentina  Kaggle Learn   \n",
       "3       Argentina  Kaggle Learn   \n",
       "4       Argentina  Kaggle Learn   \n",
       "...           ...           ...   \n",
       "136945      Spain     Kagglazon   \n",
       "136946      Spain     Kagglazon   \n",
       "136947      Spain     Kagglazon   \n",
       "136948      Spain     Kagglazon   \n",
       "136949      Spain     Kagglazon   \n",
       "\n",
       "                                               product  num_sold  \n",
       "0                    Using LLMs to Improve Your Coding        63  \n",
       "1                        Using LLMs to Train More LLMs        66  \n",
       "2       Using LLMs to Win Friends and Influence People         9  \n",
       "3           Using LLMs to Win More Kaggle Competitions        59  \n",
       "4                           Using LLMs to Write Better        49  \n",
       "...                                                ...       ...  \n",
       "136945               Using LLMs to Improve Your Coding       700  \n",
       "136946                   Using LLMs to Train More LLMs       752  \n",
       "136947  Using LLMs to Win Friends and Influence People       111  \n",
       "136948      Using LLMs to Win More Kaggle Competitions       641  \n",
       "136949                      Using LLMs to Write Better       539  \n",
       "\n",
       "[136950 rows x 4 columns]"
      ]
     },
     "execution_count": 5,
     "metadata": {},
     "output_type": "execute_result"
    }
   ],
   "source": [
    "df"
   ]
  },
  {
   "cell_type": "code",
   "execution_count": 6,
   "id": "779011ff",
   "metadata": {
    "execution": {
     "iopub.execute_input": "2023-07-19T05:01:48.816817Z",
     "iopub.status.busy": "2023-07-19T05:01:48.816406Z",
     "iopub.status.idle": "2023-07-19T05:01:48.839434Z",
     "shell.execute_reply": "2023-07-19T05:01:48.838269Z"
    },
    "papermill": {
     "duration": 0.037512,
     "end_time": "2023-07-19T05:01:48.842508",
     "exception": false,
     "start_time": "2023-07-19T05:01:48.804996",
     "status": "completed"
    },
    "tags": []
   },
   "outputs": [
    {
     "data": {
      "text/plain": [
       "array(['Argentina', 'Canada', 'Estonia', 'Japan', 'Spain'], dtype=object)"
      ]
     },
     "execution_count": 6,
     "metadata": {},
     "output_type": "execute_result"
    }
   ],
   "source": [
    "df[\"country\"].unique()"
   ]
  },
  {
   "cell_type": "code",
   "execution_count": 7,
   "id": "44c155db",
   "metadata": {
    "execution": {
     "iopub.execute_input": "2023-07-19T05:01:48.863650Z",
     "iopub.status.busy": "2023-07-19T05:01:48.862673Z",
     "iopub.status.idle": "2023-07-19T05:01:48.882007Z",
     "shell.execute_reply": "2023-07-19T05:01:48.880991Z"
    },
    "papermill": {
     "duration": 0.032477,
     "end_time": "2023-07-19T05:01:48.884399",
     "exception": false,
     "start_time": "2023-07-19T05:01:48.851922",
     "status": "completed"
    },
    "tags": []
   },
   "outputs": [
    {
     "data": {
      "text/plain": [
       "array(['Kaggle Learn', 'Kaggle Store', 'Kagglazon'], dtype=object)"
      ]
     },
     "execution_count": 7,
     "metadata": {},
     "output_type": "execute_result"
    }
   ],
   "source": [
    "df[\"store\"].unique()"
   ]
  },
  {
   "cell_type": "code",
   "execution_count": 8,
   "id": "0dcdc98d",
   "metadata": {
    "execution": {
     "iopub.execute_input": "2023-07-19T05:01:48.906109Z",
     "iopub.status.busy": "2023-07-19T05:01:48.905535Z",
     "iopub.status.idle": "2023-07-19T05:01:48.928940Z",
     "shell.execute_reply": "2023-07-19T05:01:48.927770Z"
    },
    "papermill": {
     "duration": 0.037094,
     "end_time": "2023-07-19T05:01:48.931257",
     "exception": false,
     "start_time": "2023-07-19T05:01:48.894163",
     "status": "completed"
    },
    "tags": []
   },
   "outputs": [
    {
     "data": {
      "text/plain": [
       "array(['Using LLMs to Improve Your Coding',\n",
       "       'Using LLMs to Train More LLMs',\n",
       "       'Using LLMs to Win Friends and Influence People',\n",
       "       'Using LLMs to Win More Kaggle Competitions',\n",
       "       'Using LLMs to Write Better'], dtype=object)"
      ]
     },
     "execution_count": 8,
     "metadata": {},
     "output_type": "execute_result"
    }
   ],
   "source": [
    "df[\"product\"].unique()"
   ]
  },
  {
   "cell_type": "code",
   "execution_count": 9,
   "id": "160b3b42",
   "metadata": {
    "execution": {
     "iopub.execute_input": "2023-07-19T05:01:48.952906Z",
     "iopub.status.busy": "2023-07-19T05:01:48.952222Z",
     "iopub.status.idle": "2023-07-19T05:01:49.015887Z",
     "shell.execute_reply": "2023-07-19T05:01:49.013971Z"
    },
    "papermill": {
     "duration": 0.078499,
     "end_time": "2023-07-19T05:01:49.019448",
     "exception": false,
     "start_time": "2023-07-19T05:01:48.940949",
     "status": "completed"
    },
    "tags": []
   },
   "outputs": [],
   "source": [
    "df[\"country\"] = pd.factorize(df[\"country\"])[0] + 1\n",
    "df[\"store\"] = pd.factorize(df[\"store\"])[0] + 1\n",
    "df[\"product\"] = pd.factorize(df[\"product\"])[0] + 1"
   ]
  },
  {
   "cell_type": "code",
   "execution_count": 10,
   "id": "53618068",
   "metadata": {
    "execution": {
     "iopub.execute_input": "2023-07-19T05:01:49.042136Z",
     "iopub.status.busy": "2023-07-19T05:01:49.041664Z",
     "iopub.status.idle": "2023-07-19T05:01:49.054811Z",
     "shell.execute_reply": "2023-07-19T05:01:49.053991Z"
    },
    "papermill": {
     "duration": 0.026989,
     "end_time": "2023-07-19T05:01:49.057315",
     "exception": false,
     "start_time": "2023-07-19T05:01:49.030326",
     "status": "completed"
    },
    "tags": []
   },
   "outputs": [
    {
     "data": {
      "text/html": [
       "<div>\n",
       "<style scoped>\n",
       "    .dataframe tbody tr th:only-of-type {\n",
       "        vertical-align: middle;\n",
       "    }\n",
       "\n",
       "    .dataframe tbody tr th {\n",
       "        vertical-align: top;\n",
       "    }\n",
       "\n",
       "    .dataframe thead th {\n",
       "        text-align: right;\n",
       "    }\n",
       "</style>\n",
       "<table border=\"1\" class=\"dataframe\">\n",
       "  <thead>\n",
       "    <tr style=\"text-align: right;\">\n",
       "      <th></th>\n",
       "      <th>country</th>\n",
       "      <th>store</th>\n",
       "      <th>product</th>\n",
       "      <th>num_sold</th>\n",
       "    </tr>\n",
       "  </thead>\n",
       "  <tbody>\n",
       "    <tr>\n",
       "      <th>0</th>\n",
       "      <td>1</td>\n",
       "      <td>1</td>\n",
       "      <td>1</td>\n",
       "      <td>63</td>\n",
       "    </tr>\n",
       "    <tr>\n",
       "      <th>1</th>\n",
       "      <td>1</td>\n",
       "      <td>1</td>\n",
       "      <td>2</td>\n",
       "      <td>66</td>\n",
       "    </tr>\n",
       "    <tr>\n",
       "      <th>2</th>\n",
       "      <td>1</td>\n",
       "      <td>1</td>\n",
       "      <td>3</td>\n",
       "      <td>9</td>\n",
       "    </tr>\n",
       "    <tr>\n",
       "      <th>3</th>\n",
       "      <td>1</td>\n",
       "      <td>1</td>\n",
       "      <td>4</td>\n",
       "      <td>59</td>\n",
       "    </tr>\n",
       "    <tr>\n",
       "      <th>4</th>\n",
       "      <td>1</td>\n",
       "      <td>1</td>\n",
       "      <td>5</td>\n",
       "      <td>49</td>\n",
       "    </tr>\n",
       "    <tr>\n",
       "      <th>...</th>\n",
       "      <td>...</td>\n",
       "      <td>...</td>\n",
       "      <td>...</td>\n",
       "      <td>...</td>\n",
       "    </tr>\n",
       "    <tr>\n",
       "      <th>136945</th>\n",
       "      <td>5</td>\n",
       "      <td>3</td>\n",
       "      <td>1</td>\n",
       "      <td>700</td>\n",
       "    </tr>\n",
       "    <tr>\n",
       "      <th>136946</th>\n",
       "      <td>5</td>\n",
       "      <td>3</td>\n",
       "      <td>2</td>\n",
       "      <td>752</td>\n",
       "    </tr>\n",
       "    <tr>\n",
       "      <th>136947</th>\n",
       "      <td>5</td>\n",
       "      <td>3</td>\n",
       "      <td>3</td>\n",
       "      <td>111</td>\n",
       "    </tr>\n",
       "    <tr>\n",
       "      <th>136948</th>\n",
       "      <td>5</td>\n",
       "      <td>3</td>\n",
       "      <td>4</td>\n",
       "      <td>641</td>\n",
       "    </tr>\n",
       "    <tr>\n",
       "      <th>136949</th>\n",
       "      <td>5</td>\n",
       "      <td>3</td>\n",
       "      <td>5</td>\n",
       "      <td>539</td>\n",
       "    </tr>\n",
       "  </tbody>\n",
       "</table>\n",
       "<p>136950 rows × 4 columns</p>\n",
       "</div>"
      ],
      "text/plain": [
       "        country  store  product  num_sold\n",
       "0             1      1        1        63\n",
       "1             1      1        2        66\n",
       "2             1      1        3         9\n",
       "3             1      1        4        59\n",
       "4             1      1        5        49\n",
       "...         ...    ...      ...       ...\n",
       "136945        5      3        1       700\n",
       "136946        5      3        2       752\n",
       "136947        5      3        3       111\n",
       "136948        5      3        4       641\n",
       "136949        5      3        5       539\n",
       "\n",
       "[136950 rows x 4 columns]"
      ]
     },
     "execution_count": 10,
     "metadata": {},
     "output_type": "execute_result"
    }
   ],
   "source": [
    "df"
   ]
  },
  {
   "cell_type": "markdown",
   "id": "3e7b9982",
   "metadata": {
    "papermill": {
     "duration": 0.00961,
     "end_time": "2023-07-19T05:01:49.076955",
     "exception": false,
     "start_time": "2023-07-19T05:01:49.067345",
     "status": "completed"
    },
    "tags": []
   },
   "source": [
    "Correlation check"
   ]
  },
  {
   "cell_type": "code",
   "execution_count": 11,
   "id": "e390c5a0",
   "metadata": {
    "execution": {
     "iopub.execute_input": "2023-07-19T05:01:49.099535Z",
     "iopub.status.busy": "2023-07-19T05:01:49.098892Z",
     "iopub.status.idle": "2023-07-19T05:01:50.658476Z",
     "shell.execute_reply": "2023-07-19T05:01:50.657317Z"
    },
    "papermill": {
     "duration": 1.574678,
     "end_time": "2023-07-19T05:01:50.661495",
     "exception": false,
     "start_time": "2023-07-19T05:01:49.086817",
     "status": "completed"
    },
    "tags": []
   },
   "outputs": [
    {
     "name": "stderr",
     "output_type": "stream",
     "text": [
      "/opt/conda/lib/python3.10/site-packages/scipy/__init__.py:146: UserWarning: A NumPy version >=1.16.5 and <1.23.0 is required for this version of SciPy (detected version 1.23.5\n",
      "  warnings.warn(f\"A NumPy version >={np_minversion} and <{np_maxversion}\"\n"
     ]
    }
   ],
   "source": [
    "import seaborn as sns"
   ]
  },
  {
   "cell_type": "code",
   "execution_count": 12,
   "id": "fcd5dad9",
   "metadata": {
    "execution": {
     "iopub.execute_input": "2023-07-19T05:01:50.684275Z",
     "iopub.status.busy": "2023-07-19T05:01:50.683853Z",
     "iopub.status.idle": "2023-07-19T05:01:50.692774Z",
     "shell.execute_reply": "2023-07-19T05:01:50.691538Z"
    },
    "papermill": {
     "duration": 0.023149,
     "end_time": "2023-07-19T05:01:50.695302",
     "exception": false,
     "start_time": "2023-07-19T05:01:50.672153",
     "status": "completed"
    },
    "tags": []
   },
   "outputs": [],
   "source": [
    "X = df.drop([\"num_sold\"], axis = 1)\n",
    "y = df[\"num_sold\"]"
   ]
  },
  {
   "cell_type": "code",
   "execution_count": 13,
   "id": "faa73103",
   "metadata": {
    "execution": {
     "iopub.execute_input": "2023-07-19T05:01:50.719804Z",
     "iopub.status.busy": "2023-07-19T05:01:50.719072Z",
     "iopub.status.idle": "2023-07-19T05:01:51.084816Z",
     "shell.execute_reply": "2023-07-19T05:01:51.083630Z"
    },
    "papermill": {
     "duration": 0.382137,
     "end_time": "2023-07-19T05:01:51.087715",
     "exception": false,
     "start_time": "2023-07-19T05:01:50.705578",
     "status": "completed"
    },
    "tags": []
   },
   "outputs": [
    {
     "data": {
      "text/plain": [
       "<Axes: >"
      ]
     },
     "execution_count": 13,
     "metadata": {},
     "output_type": "execute_result"
    },
    {
     "data": {
      "image/png": "[encoded data removed]",
      "text/plain": [
       "<Figure size 640x480 with 2 Axes>"
      ]
     },
     "metadata": {},
     "output_type": "display_data"
    }
   ],
   "source": [
    "sns.heatmap(X.corr())\n"
   ]
  },
  {
   "cell_type": "code",
   "execution_count": 14,
   "id": "fb982a18",
   "metadata": {
    "execution": {
     "iopub.execute_input": "2023-07-19T05:01:51.111013Z",
     "iopub.status.busy": "2023-07-19T05:01:51.110538Z",
     "iopub.status.idle": "2023-07-19T05:01:51.114948Z",
     "shell.execute_reply": "2023-07-19T05:01:51.114104Z"
    },
    "papermill": {
     "duration": 0.018763,
     "end_time": "2023-07-19T05:01:51.117173",
     "exception": false,
     "start_time": "2023-07-19T05:01:51.098410",
     "status": "completed"
    },
    "tags": []
   },
   "outputs": [],
   "source": [
    "# from sklearn.linear_model import LinearRegression"
   ]
  },
  {
   "cell_type": "code",
   "execution_count": 15,
   "id": "301a5dfc",
   "metadata": {
    "execution": {
     "iopub.execute_input": "2023-07-19T05:01:51.141769Z",
     "iopub.status.busy": "2023-07-19T05:01:51.140462Z",
     "iopub.status.idle": "2023-07-19T05:01:51.145488Z",
     "shell.execute_reply": "2023-07-19T05:01:51.144273Z"
    },
    "papermill": {
     "duration": 0.020126,
     "end_time": "2023-07-19T05:01:51.147988",
     "exception": false,
     "start_time": "2023-07-19T05:01:51.127862",
     "status": "completed"
    },
    "tags": []
   },
   "outputs": [],
   "source": [
    "# model = LinearRegression()\n",
    "# model.fit(X, y)"
   ]
  },
  {
   "cell_type": "code",
   "execution_count": 16,
   "id": "e2531ca0",
   "metadata": {
    "execution": {
     "iopub.execute_input": "2023-07-19T05:01:51.172130Z",
     "iopub.status.busy": "2023-07-19T05:01:51.171691Z",
     "iopub.status.idle": "2023-07-19T05:01:51.674409Z",
     "shell.execute_reply": "2023-07-19T05:01:51.673417Z"
    },
    "papermill": {
     "duration": 0.518,
     "end_time": "2023-07-19T05:01:51.677147",
     "exception": false,
     "start_time": "2023-07-19T05:01:51.159147",
     "status": "completed"
    },
    "tags": []
   },
   "outputs": [],
   "source": [
    "from xgboost import XGBRegressor"
   ]
  },
  {
   "cell_type": "code",
   "execution_count": 17,
   "id": "abf1aea0",
   "metadata": {
    "execution": {
     "iopub.execute_input": "2023-07-19T05:01:51.700566Z",
     "iopub.status.busy": "2023-07-19T05:01:51.700144Z",
     "iopub.status.idle": "2023-07-19T05:01:51.705020Z",
     "shell.execute_reply": "2023-07-19T05:01:51.703886Z"
    },
    "papermill": {
     "duration": 0.019726,
     "end_time": "2023-07-19T05:01:51.707602",
     "exception": false,
     "start_time": "2023-07-19T05:01:51.687876",
     "status": "completed"
    },
    "tags": []
   },
   "outputs": [],
   "source": [
    "xgboost_model = XGBRegressor()"
   ]
  },
  {
   "cell_type": "code",
   "execution_count": 18,
   "id": "1d35a6eb",
   "metadata": {
    "execution": {
     "iopub.execute_input": "2023-07-19T05:01:51.732664Z",
     "iopub.status.busy": "2023-07-19T05:01:51.732266Z",
     "iopub.status.idle": "2023-07-19T05:01:54.052850Z",
     "shell.execute_reply": "2023-07-19T05:01:54.051797Z"
    },
    "papermill": {
     "duration": 2.336434,
     "end_time": "2023-07-19T05:01:54.055499",
     "exception": false,
     "start_time": "2023-07-19T05:01:51.719065",
     "status": "completed"
    },
    "tags": []
   },
   "outputs": [
    {
     "data": {
      "text/html": [
       "<style>#sk-container-id-1 {color: black;background-color: white;}#sk-container-id-1 pre{padding: 0;}#sk-container-id-1 div.sk-toggleable {background-color: white;}#sk-container-id-1 label.sk-toggleable__label {cursor: pointer;display: block;width: 100%;margin-bottom: 0;padding: 0.3em;box-sizing: border-box;text-align: center;}#sk-container-id-1 label.sk-toggleable__label-arrow:before {content: \"▸\";float: left;margin-right: 0.25em;color: #696969;}#sk-container-id-1 label.sk-toggleable__label-arrow:hover:before {color: black;}#sk-container-id-1 div.sk-estimator:hover label.sk-toggleable__label-arrow:before {color: black;}#sk-container-id-1 div.sk-toggleable__content {max-height: 0;max-width: 0;overflow: hidden;text-align: left;background-color: #f0f8ff;}#sk-container-id-1 div.sk-toggleable__content pre {margin: 0.2em;color: black;border-radius: 0.25em;background-color: #f0f8ff;}#sk-container-id-1 input.sk-toggleable__control:checked~div.sk-toggleable__content {max-height: 200px;max-width: 100%;overflow: auto;}#sk-container-id-1 input.sk-toggleable__control:checked~label.sk-toggleable__label-arrow:before {content: \"▾\";}#sk-container-id-1 div.sk-estimator input.sk-toggleable__control:checked~label.sk-toggleable__label {background-color: #d4ebff;}#sk-container-id-1 div.sk-label input.sk-toggleable__control:checked~label.sk-toggleable__label {background-color: #d4ebff;}#sk-container-id-1 input.sk-hidden--visually {border: 0;clip: rect(1px 1px 1px 1px);clip: rect(1px, 1px, 1px, 1px);height: 1px;margin: -1px;overflow: hidden;padding: 0;position: absolute;width: 1px;}#sk-container-id-1 div.sk-estimator {font-family: monospace;background-color: #f0f8ff;border: 1px dotted black;border-radius: 0.25em;box-sizing: border-box;margin-bottom: 0.5em;}#sk-container-id-1 div.sk-estimator:hover {background-color: #d4ebff;}#sk-container-id-1 div.sk-parallel-item::after {content: \"\";width: 100%;border-bottom: 1px solid gray;flex-grow: 1;}#sk-container-id-1 div.sk-label:hover label.sk-toggleable__label {background-color: #d4ebff;}#sk-container-id-1 div.sk-serial::before {content: \"\";position: absolute;border-left: 1px solid gray;box-sizing: border-box;top: 0;bottom: 0;left: 50%;z-index: 0;}#sk-container-id-1 div.sk-serial {display: flex;flex-direction: column;align-items: center;background-color: white;padding-right: 0.2em;padding-left: 0.2em;position: relative;}#sk-container-id-1 div.sk-item {position: relative;z-index: 1;}#sk-container-id-1 div.sk-parallel {display: flex;align-items: stretch;justify-content: center;background-color: white;position: relative;}#sk-container-id-1 div.sk-item::before, #sk-container-id-1 div.sk-parallel-item::before {content: \"\";position: absolute;border-left: 1px solid gray;box-sizing: border-box;top: 0;bottom: 0;left: 50%;z-index: -1;}#sk-container-id-1 div.sk-parallel-item {display: flex;flex-direction: column;z-index: 1;position: relative;background-color: white;}#sk-container-id-1 div.sk-parallel-item:first-child::after {align-self: flex-end;width: 50%;}#sk-container-id-1 div.sk-parallel-item:last-child::after {align-self: flex-start;width: 50%;}#sk-container-id-1 div.sk-parallel-item:only-child::after {width: 0;}#sk-container-id-1 div.sk-dashed-wrapped {border: 1px dashed gray;margin: 0 0.4em 0.5em 0.4em;box-sizing: border-box;padding-bottom: 0.4em;background-color: white;}#sk-container-id-1 div.sk-label label {font-family: monospace;font-weight: bold;display: inline-block;line-height: 1.2em;}#sk-container-id-1 div.sk-label-container {text-align: center;}#sk-container-id-1 div.sk-container {/* jupyter's `normalize.less` sets `[hidden] { display: none; }` but bootstrap.min.css set `[hidden] { display: none !important; }` so we also need the `!important` here to be able to override the default hidden behavior on the sphinx rendered scikit-learn.org. See: https://github.com/scikit-learn/scikit-learn/issues/21755 */display: inline-block !important;position: relative;}#sk-container-id-1 div.sk-text-repr-fallback {display: none;}</style><div id=\"sk-container-id-1\" class=\"sk-top-container\"><div class=\"sk-text-repr-fallback\"><pre>XGBRegressor(base_score=None, booster=None, callbacks=None,\n",
       "             colsample_bylevel=None, colsample_bynode=None,\n",
       "             colsample_bytree=None, early_stopping_rounds=None,\n",
       "             enable_categorical=False, eval_metric=None, feature_types=None,\n",
       "             gamma=None, gpu_id=None, grow_policy=None, importance_type=None,\n",
       "             interaction_constraints=None, learning_rate=None, max_bin=None,\n",
       "             max_cat_threshold=None, max_cat_to_onehot=None,\n",
       "             max_delta_step=None, max_depth=None, max_leaves=None,\n",
       "             min_child_weight=None, missing=nan, monotone_constraints=None,\n",
       "             n_estimators=100, n_jobs=None, num_parallel_tree=None,\n",
       "             predictor=None, random_state=None, ...)</pre><b>In a Jupyter environment, please rerun this cell to show the HTML representation or trust the notebook. <br />On GitHub, the HTML representation is unable to render, please try loading this page with nbviewer.org.</b></div><div class=\"sk-container\" hidden><div class=\"sk-item\"><div class=\"sk-estimator sk-toggleable\"><input class=\"sk-toggleable__control sk-hidden--visually\" id=\"sk-estimator-id-1\" type=\"checkbox\" checked><label for=\"sk-estimator-id-1\" class=\"sk-toggleable__label sk-toggleable__label-arrow\">XGBRegressor</label><div class=\"sk-toggleable__content\"><pre>XGBRegressor(base_score=None, booster=None, callbacks=None,\n",
       "             colsample_bylevel=None, colsample_bynode=None,\n",
       "             colsample_bytree=None, early_stopping_rounds=None,\n",
       "             enable_categorical=False, eval_metric=None, feature_types=None,\n",
       "             gamma=None, gpu_id=None, grow_policy=None, importance_type=None,\n",
       "             interaction_constraints=None, learning_rate=None, max_bin=None,\n",
       "             max_cat_threshold=None, max_cat_to_onehot=None,\n",
       "             max_delta_step=None, max_depth=None, max_leaves=None,\n",
       "             min_child_weight=None, missing=nan, monotone_constraints=None,\n",
       "             n_estimators=100, n_jobs=None, num_parallel_tree=None,\n",
       "             predictor=None, random_state=None, ...)</pre></div></div></div></div></div>"
      ],
      "text/plain": [
       "XGBRegressor(base_score=None, booster=None, callbacks=None,\n",
       "             colsample_bylevel=None, colsample_bynode=None,\n",
       "             colsample_bytree=None, early_stopping_rounds=None,\n",
       "             enable_categorical=False, eval_metric=None, feature_types=None,\n",
       "             gamma=None, gpu_id=None, grow_policy=None, importance_type=None,\n",
       "             interaction_constraints=None, learning_rate=None, max_bin=None,\n",
       "             max_cat_threshold=None, max_cat_to_onehot=None,\n",
       "             max_delta_step=None, max_depth=None, max_leaves=None,\n",
       "             min_child_weight=None, missing=nan, monotone_constraints=None,\n",
       "             n_estimators=100, n_jobs=None, num_parallel_tree=None,\n",
       "             predictor=None, random_state=None, ...)"
      ]
     },
     "execution_count": 18,
     "metadata": {},
     "output_type": "execute_result"
    }
   ],
   "source": [
    "xgboost_model.fit(X, y)"
   ]
  },
  {
   "cell_type": "code",
   "execution_count": 19,
   "id": "4130b347",
   "metadata": {
    "execution": {
     "iopub.execute_input": "2023-07-19T05:01:54.080374Z",
     "iopub.status.busy": "2023-07-19T05:01:54.079946Z",
     "iopub.status.idle": "2023-07-19T05:01:54.138880Z",
     "shell.execute_reply": "2023-07-19T05:01:54.137882Z"
    },
    "papermill": {
     "duration": 0.075172,
     "end_time": "2023-07-19T05:01:54.142200",
     "exception": false,
     "start_time": "2023-07-19T05:01:54.067028",
     "status": "completed"
    },
    "tags": []
   },
   "outputs": [],
   "source": [
    "test_df = pd.read_csv(\"/kaggle/input/playground-series-s3e19/test.csv\")"
   ]
  },
  {
   "cell_type": "code",
   "execution_count": 20,
   "id": "ff70c968",
   "metadata": {
    "execution": {
     "iopub.execute_input": "2023-07-19T05:01:54.166484Z",
     "iopub.status.busy": "2023-07-19T05:01:54.166068Z",
     "iopub.status.idle": "2023-07-19T05:01:54.188634Z",
     "shell.execute_reply": "2023-07-19T05:01:54.187278Z"
    },
    "papermill": {
     "duration": 0.037888,
     "end_time": "2023-07-19T05:01:54.191596",
     "exception": false,
     "start_time": "2023-07-19T05:01:54.153708",
     "status": "completed"
    },
    "tags": []
   },
   "outputs": [],
   "source": [
    "test_df[\"country\"] = pd.factorize(test_df[\"country\"])[0] + 1\n",
    "test_df[\"store\"] = pd.factorize(test_df[\"store\"])[0] + 1\n",
    "test_df[\"product\"] = pd.factorize(test_df[\"product\"])[0] + 1\n",
    "test_ids = test_df[\"id\"]\n",
    "test_df = test_df.drop([\"id\", \"date\"], axis=1)"
   ]
  },
  {
   "cell_type": "code",
   "execution_count": 21,
   "id": "beb1a06c",
   "metadata": {
    "execution": {
     "iopub.execute_input": "2023-07-19T05:01:54.216025Z",
     "iopub.status.busy": "2023-07-19T05:01:54.214792Z",
     "iopub.status.idle": "2023-07-19T05:01:54.220344Z",
     "shell.execute_reply": "2023-07-19T05:01:54.219337Z"
    },
    "papermill": {
     "duration": 0.020725,
     "end_time": "2023-07-19T05:01:54.223165",
     "exception": false,
     "start_time": "2023-07-19T05:01:54.202440",
     "status": "completed"
    },
    "tags": []
   },
   "outputs": [],
   "source": [
    "# result = model.predict(test_df)"
   ]
  },
  {
   "cell_type": "code",
   "execution_count": 22,
   "id": "f2747fa3",
   "metadata": {
    "execution": {
     "iopub.execute_input": "2023-07-19T05:01:54.247994Z",
     "iopub.status.busy": "2023-07-19T05:01:54.247156Z",
     "iopub.status.idle": "2023-07-19T05:01:54.278199Z",
     "shell.execute_reply": "2023-07-19T05:01:54.277202Z"
    },
    "papermill": {
     "duration": 0.047017,
     "end_time": "2023-07-19T05:01:54.281123",
     "exception": false,
     "start_time": "2023-07-19T05:01:54.234106",
     "status": "completed"
    },
    "tags": []
   },
   "outputs": [],
   "source": [
    "xdg_result = xgboost_model.predict(test_df)"
   ]
  },
  {
   "cell_type": "code",
   "execution_count": 23,
   "id": "01d96887",
   "metadata": {
    "execution": {
     "iopub.execute_input": "2023-07-19T05:01:54.306101Z",
     "iopub.status.busy": "2023-07-19T05:01:54.305677Z",
     "iopub.status.idle": "2023-07-19T05:01:54.313137Z",
     "shell.execute_reply": "2023-07-19T05:01:54.311983Z"
    },
    "papermill": {
     "duration": 0.022445,
     "end_time": "2023-07-19T05:01:54.315798",
     "exception": false,
     "start_time": "2023-07-19T05:01:54.293353",
     "status": "completed"
    },
    "tags": []
   },
   "outputs": [
    {
     "data": {
      "text/plain": [
       "array([ 29.885544 ,  29.507668 ,   4.2376695, ...,  68.59521  ,\n",
       "       370.5192   , 336.62598  ], dtype=float32)"
      ]
     },
     "execution_count": 23,
     "metadata": {},
     "output_type": "execute_result"
    }
   ],
   "source": [
    "xdg_result"
   ]
  },
  {
   "cell_type": "code",
   "execution_count": 24,
   "id": "e42d2428",
   "metadata": {
    "execution": {
     "iopub.execute_input": "2023-07-19T05:01:54.339929Z",
     "iopub.status.busy": "2023-07-19T05:01:54.339065Z",
     "iopub.status.idle": "2023-07-19T05:01:54.485320Z",
     "shell.execute_reply": "2023-07-19T05:01:54.483933Z"
    },
    "papermill": {
     "duration": 0.161815,
     "end_time": "2023-07-19T05:01:54.488504",
     "exception": false,
     "start_time": "2023-07-19T05:01:54.326689",
     "status": "completed"
    },
    "tags": []
   },
   "outputs": [],
   "source": [
    "submission_list = pd.DataFrame(list(zip(test_ids, xdg_result)), columns=[\"id\", \"num_sold\"]) \n",
    "submission_list.to_csv(\"submission.csv\", index=False)"
   ]
  }
 ],
 "metadata": {
  "kernelspec": {
   "display_name": "Python 3",
   "language": "python",
   "name": "python3"
  },
  "language_info": {
   "codemirror_mode": {
    "name": "ipython",
    "version": 3
   },
   "file_extension": ".py",
   "mimetype": "text/x-python",
   "name": "python",
   "nbconvert_exporter": "python",
   "pygments_lexer": "ipython3",
   "version": "3.10.12"
  },
  "papermill": {
   "default_parameters": {},
   "duration": 19.659076,
   "end_time": "2023-07-19T05:01:55.624501",
   "environment_variables": {},
   "exception": null,
   "input_path": "__notebook__.ipynb",
   "output_path": "__notebook__.ipynb",
   "parameters": {},
   "start_time": "2023-07-19T05:01:35.965425",
   "version": "2.4.0"
  }
 },
 "nbformat": 4,
 "nbformat_minor": 5
}

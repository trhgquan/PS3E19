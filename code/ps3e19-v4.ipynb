{
 "cells": [
  {
   "cell_type": "code",
   "execution_count": 1,
   "id": "798fd560",
   "metadata": {
    "_cell_guid": "b1076dfc-b9ad-4769-8c92-a6c4dae69d19",
    "_uuid": "8f2839f25d086af736a60e9eeb907d3b93b6e0e5",
    "execution": {
     "iopub.execute_input": "2023-07-19T14:53:19.207825Z",
     "iopub.status.busy": "2023-07-19T14:53:19.207430Z",
     "iopub.status.idle": "2023-07-19T14:53:19.471926Z",
     "shell.execute_reply": "2023-07-19T14:53:19.470534Z"
    },
    "papermill": {
     "duration": 0.282107,
     "end_time": "2023-07-19T14:53:19.475029",
     "exception": false,
     "start_time": "2023-07-19T14:53:19.192922",
     "status": "completed"
    },
    "tags": []
   },
   "outputs": [],
   "source": [
    "import numpy as np # linear algebra\n",
    "import pandas as pd # data processing, CSV file I/O (e.g. pd.read_csv)\n",
    "import holidays\n",
    "import matplotlib.pyplot as plt\n",
    "from tqdm.notebook import tqdm\n",
    "tqdm.pandas()\n"
   ]
  },
  {
   "cell_type": "code",
   "execution_count": 2,
   "id": "50189591",
   "metadata": {
    "execution": {
     "iopub.execute_input": "2023-07-19T14:53:19.498244Z",
     "iopub.status.busy": "2023-07-19T14:53:19.497832Z",
     "iopub.status.idle": "2023-07-19T14:53:19.774487Z",
     "shell.execute_reply": "2023-07-19T14:53:19.773402Z"
    },
    "papermill": {
     "duration": 0.29134,
     "end_time": "2023-07-19T14:53:19.777155",
     "exception": false,
     "start_time": "2023-07-19T14:53:19.485815",
     "status": "completed"
    },
    "tags": []
   },
   "outputs": [],
   "source": [
    "df = pd.read_csv(\"/kaggle/input/playground-series-s3e19/train.csv\")"
   ]
  },
  {
   "cell_type": "code",
   "execution_count": 3,
   "id": "d168058d",
   "metadata": {
    "execution": {
     "iopub.execute_input": "2023-07-19T14:53:19.800437Z",
     "iopub.status.busy": "2023-07-19T14:53:19.799420Z",
     "iopub.status.idle": "2023-07-19T14:53:19.831147Z",
     "shell.execute_reply": "2023-07-19T14:53:19.829922Z"
    },
    "papermill": {
     "duration": 0.046192,
     "end_time": "2023-07-19T14:53:19.833930",
     "exception": false,
     "start_time": "2023-07-19T14:53:19.787738",
     "status": "completed"
    },
    "tags": []
   },
   "outputs": [
    {
     "data": {
      "text/html": [
       "<div>\n",
       "<style scoped>\n",
       "    .dataframe tbody tr th:only-of-type {\n",
       "        vertical-align: middle;\n",
       "    }\n",
       "\n",
       "    .dataframe tbody tr th {\n",
       "        vertical-align: top;\n",
       "    }\n",
       "\n",
       "    .dataframe thead th {\n",
       "        text-align: right;\n",
       "    }\n",
       "</style>\n",
       "<table border=\"1\" class=\"dataframe\">\n",
       "  <thead>\n",
       "    <tr style=\"text-align: right;\">\n",
       "      <th></th>\n",
       "      <th>id</th>\n",
       "      <th>date</th>\n",
       "      <th>country</th>\n",
       "      <th>store</th>\n",
       "      <th>product</th>\n",
       "      <th>num_sold</th>\n",
       "    </tr>\n",
       "  </thead>\n",
       "  <tbody>\n",
       "    <tr>\n",
       "      <th>0</th>\n",
       "      <td>0</td>\n",
       "      <td>2017-01-01</td>\n",
       "      <td>Argentina</td>\n",
       "      <td>Kaggle Learn</td>\n",
       "      <td>Using LLMs to Improve Your Coding</td>\n",
       "      <td>63</td>\n",
       "    </tr>\n",
       "    <tr>\n",
       "      <th>1</th>\n",
       "      <td>1</td>\n",
       "      <td>2017-01-01</td>\n",
       "      <td>Argentina</td>\n",
       "      <td>Kaggle Learn</td>\n",
       "      <td>Using LLMs to Train More LLMs</td>\n",
       "      <td>66</td>\n",
       "    </tr>\n",
       "    <tr>\n",
       "      <th>2</th>\n",
       "      <td>2</td>\n",
       "      <td>2017-01-01</td>\n",
       "      <td>Argentina</td>\n",
       "      <td>Kaggle Learn</td>\n",
       "      <td>Using LLMs to Win Friends and Influence People</td>\n",
       "      <td>9</td>\n",
       "    </tr>\n",
       "    <tr>\n",
       "      <th>3</th>\n",
       "      <td>3</td>\n",
       "      <td>2017-01-01</td>\n",
       "      <td>Argentina</td>\n",
       "      <td>Kaggle Learn</td>\n",
       "      <td>Using LLMs to Win More Kaggle Competitions</td>\n",
       "      <td>59</td>\n",
       "    </tr>\n",
       "    <tr>\n",
       "      <th>4</th>\n",
       "      <td>4</td>\n",
       "      <td>2017-01-01</td>\n",
       "      <td>Argentina</td>\n",
       "      <td>Kaggle Learn</td>\n",
       "      <td>Using LLMs to Write Better</td>\n",
       "      <td>49</td>\n",
       "    </tr>\n",
       "    <tr>\n",
       "      <th>...</th>\n",
       "      <td>...</td>\n",
       "      <td>...</td>\n",
       "      <td>...</td>\n",
       "      <td>...</td>\n",
       "      <td>...</td>\n",
       "      <td>...</td>\n",
       "    </tr>\n",
       "    <tr>\n",
       "      <th>136945</th>\n",
       "      <td>136945</td>\n",
       "      <td>2021-12-31</td>\n",
       "      <td>Spain</td>\n",
       "      <td>Kagglazon</td>\n",
       "      <td>Using LLMs to Improve Your Coding</td>\n",
       "      <td>700</td>\n",
       "    </tr>\n",
       "    <tr>\n",
       "      <th>136946</th>\n",
       "      <td>136946</td>\n",
       "      <td>2021-12-31</td>\n",
       "      <td>Spain</td>\n",
       "      <td>Kagglazon</td>\n",
       "      <td>Using LLMs to Train More LLMs</td>\n",
       "      <td>752</td>\n",
       "    </tr>\n",
       "    <tr>\n",
       "      <th>136947</th>\n",
       "      <td>136947</td>\n",
       "      <td>2021-12-31</td>\n",
       "      <td>Spain</td>\n",
       "      <td>Kagglazon</td>\n",
       "      <td>Using LLMs to Win Friends and Influence People</td>\n",
       "      <td>111</td>\n",
       "    </tr>\n",
       "    <tr>\n",
       "      <th>136948</th>\n",
       "      <td>136948</td>\n",
       "      <td>2021-12-31</td>\n",
       "      <td>Spain</td>\n",
       "      <td>Kagglazon</td>\n",
       "      <td>Using LLMs to Win More Kaggle Competitions</td>\n",
       "      <td>641</td>\n",
       "    </tr>\n",
       "    <tr>\n",
       "      <th>136949</th>\n",
       "      <td>136949</td>\n",
       "      <td>2021-12-31</td>\n",
       "      <td>Spain</td>\n",
       "      <td>Kagglazon</td>\n",
       "      <td>Using LLMs to Write Better</td>\n",
       "      <td>539</td>\n",
       "    </tr>\n",
       "  </tbody>\n",
       "</table>\n",
       "<p>136950 rows × 6 columns</p>\n",
       "</div>"
      ],
      "text/plain": [
       "            id        date    country         store  \\\n",
       "0            0  2017-01-01  Argentina  Kaggle Learn   \n",
       "1            1  2017-01-01  Argentina  Kaggle Learn   \n",
       "2            2  2017-01-01  Argentina  Kaggle Learn   \n",
       "3            3  2017-01-01  Argentina  Kaggle Learn   \n",
       "4            4  2017-01-01  Argentina  Kaggle Learn   \n",
       "...        ...         ...        ...           ...   \n",
       "136945  136945  2021-12-31      Spain     Kagglazon   \n",
       "136946  136946  2021-12-31      Spain     Kagglazon   \n",
       "136947  136947  2021-12-31      Spain     Kagglazon   \n",
       "136948  136948  2021-12-31      Spain     Kagglazon   \n",
       "136949  136949  2021-12-31      Spain     Kagglazon   \n",
       "\n",
       "                                               product  num_sold  \n",
       "0                    Using LLMs to Improve Your Coding        63  \n",
       "1                        Using LLMs to Train More LLMs        66  \n",
       "2       Using LLMs to Win Friends and Influence People         9  \n",
       "3           Using LLMs to Win More Kaggle Competitions        59  \n",
       "4                           Using LLMs to Write Better        49  \n",
       "...                                                ...       ...  \n",
       "136945               Using LLMs to Improve Your Coding       700  \n",
       "136946                   Using LLMs to Train More LLMs       752  \n",
       "136947  Using LLMs to Win Friends and Influence People       111  \n",
       "136948      Using LLMs to Win More Kaggle Competitions       641  \n",
       "136949                      Using LLMs to Write Better       539  \n",
       "\n",
       "[136950 rows x 6 columns]"
      ]
     },
     "execution_count": 3,
     "metadata": {},
     "output_type": "execute_result"
    }
   ],
   "source": [
    "df"
   ]
  },
  {
   "cell_type": "code",
   "execution_count": 4,
   "id": "9d9ae6ce",
   "metadata": {
    "execution": {
     "iopub.execute_input": "2023-07-19T14:53:19.857795Z",
     "iopub.status.busy": "2023-07-19T14:53:19.857091Z",
     "iopub.status.idle": "2023-07-19T14:53:19.878304Z",
     "shell.execute_reply": "2023-07-19T14:53:19.877083Z"
    },
    "papermill": {
     "duration": 0.035849,
     "end_time": "2023-07-19T14:53:19.880788",
     "exception": false,
     "start_time": "2023-07-19T14:53:19.844939",
     "status": "completed"
    },
    "tags": []
   },
   "outputs": [
    {
     "data": {
      "text/plain": [
       "array(['Argentina', 'Canada', 'Estonia', 'Japan', 'Spain'], dtype=object)"
      ]
     },
     "execution_count": 4,
     "metadata": {},
     "output_type": "execute_result"
    }
   ],
   "source": [
    "df[\"country\"].unique()"
   ]
  },
  {
   "cell_type": "markdown",
   "id": "12220fdd",
   "metadata": {
    "papermill": {
     "duration": 0.010655,
     "end_time": "2023-07-19T14:53:19.902810",
     "exception": false,
     "start_time": "2023-07-19T14:53:19.892155",
     "status": "completed"
    },
    "tags": []
   },
   "source": [
    "The holidays might affect the sales "
   ]
  },
  {
   "cell_type": "code",
   "execution_count": 5,
   "id": "3416d445",
   "metadata": {
    "execution": {
     "iopub.execute_input": "2023-07-19T14:53:19.929710Z",
     "iopub.status.busy": "2023-07-19T14:53:19.929264Z",
     "iopub.status.idle": "2023-07-19T14:53:19.977892Z",
     "shell.execute_reply": "2023-07-19T14:53:19.976591Z"
    },
    "papermill": {
     "duration": 0.065878,
     "end_time": "2023-07-19T14:53:19.980658",
     "exception": false,
     "start_time": "2023-07-19T14:53:19.914780",
     "status": "completed"
    },
    "tags": []
   },
   "outputs": [],
   "source": [
    "df[\"day_of_week\"] = pd.to_datetime(df[\"date\"]).dt.weekday"
   ]
  },
  {
   "cell_type": "code",
   "execution_count": 6,
   "id": "3fc9d76d",
   "metadata": {
    "execution": {
     "iopub.execute_input": "2023-07-19T14:53:20.004723Z",
     "iopub.status.busy": "2023-07-19T14:53:20.004345Z",
     "iopub.status.idle": "2023-07-19T14:53:20.013059Z",
     "shell.execute_reply": "2023-07-19T14:53:20.011653Z"
    },
    "papermill": {
     "duration": 0.023897,
     "end_time": "2023-07-19T14:53:20.015675",
     "exception": false,
     "start_time": "2023-07-19T14:53:19.991778",
     "status": "completed"
    },
    "tags": []
   },
   "outputs": [],
   "source": [
    "def holiday_encoding(row):#country, day, day_of_week):\n",
    "    if row[\"country\"] == \"Argentina\" and row[\"date\"] in holidays.AR():\n",
    "        return 1\n",
    "    if row[\"country\"] == \"Canada\" and row[\"date\"] in holidays.CA():\n",
    "        return 2\n",
    "    if row[\"country\"] == \"Estonia\" and row[\"date\"] in holidays.EE():\n",
    "        return 3\n",
    "    if row[\"country\"] == \"Japan\" and row[\"date\"] in holidays.JP():\n",
    "        return 4\n",
    "    if row[\"country\"] == \"Spain\" and row[\"date\"] in holidays.ES():\n",
    "        return 5\n",
    "\n",
    "    if row[\"day_of_week\"] == 6:\n",
    "        return 6 # Sunday\n",
    "    \n",
    "    return 0"
   ]
  },
  {
   "cell_type": "code",
   "execution_count": 7,
   "id": "0b2351a6",
   "metadata": {
    "execution": {
     "iopub.execute_input": "2023-07-19T14:53:20.041398Z",
     "iopub.status.busy": "2023-07-19T14:53:20.040980Z",
     "iopub.status.idle": "2023-07-19T14:53:20.058277Z",
     "shell.execute_reply": "2023-07-19T14:53:20.057069Z"
    },
    "papermill": {
     "duration": 0.033185,
     "end_time": "2023-07-19T14:53:20.060709",
     "exception": false,
     "start_time": "2023-07-19T14:53:20.027524",
     "status": "completed"
    },
    "tags": []
   },
   "outputs": [
    {
     "data": {
      "text/html": [
       "<div>\n",
       "<style scoped>\n",
       "    .dataframe tbody tr th:only-of-type {\n",
       "        vertical-align: middle;\n",
       "    }\n",
       "\n",
       "    .dataframe tbody tr th {\n",
       "        vertical-align: top;\n",
       "    }\n",
       "\n",
       "    .dataframe thead th {\n",
       "        text-align: right;\n",
       "    }\n",
       "</style>\n",
       "<table border=\"1\" class=\"dataframe\">\n",
       "  <thead>\n",
       "    <tr style=\"text-align: right;\">\n",
       "      <th></th>\n",
       "      <th>id</th>\n",
       "      <th>date</th>\n",
       "      <th>country</th>\n",
       "      <th>store</th>\n",
       "      <th>product</th>\n",
       "      <th>num_sold</th>\n",
       "      <th>day_of_week</th>\n",
       "    </tr>\n",
       "  </thead>\n",
       "  <tbody>\n",
       "    <tr>\n",
       "      <th>0</th>\n",
       "      <td>0</td>\n",
       "      <td>2017-01-01</td>\n",
       "      <td>Argentina</td>\n",
       "      <td>Kaggle Learn</td>\n",
       "      <td>Using LLMs to Improve Your Coding</td>\n",
       "      <td>63</td>\n",
       "      <td>6</td>\n",
       "    </tr>\n",
       "    <tr>\n",
       "      <th>1</th>\n",
       "      <td>1</td>\n",
       "      <td>2017-01-01</td>\n",
       "      <td>Argentina</td>\n",
       "      <td>Kaggle Learn</td>\n",
       "      <td>Using LLMs to Train More LLMs</td>\n",
       "      <td>66</td>\n",
       "      <td>6</td>\n",
       "    </tr>\n",
       "    <tr>\n",
       "      <th>2</th>\n",
       "      <td>2</td>\n",
       "      <td>2017-01-01</td>\n",
       "      <td>Argentina</td>\n",
       "      <td>Kaggle Learn</td>\n",
       "      <td>Using LLMs to Win Friends and Influence People</td>\n",
       "      <td>9</td>\n",
       "      <td>6</td>\n",
       "    </tr>\n",
       "    <tr>\n",
       "      <th>3</th>\n",
       "      <td>3</td>\n",
       "      <td>2017-01-01</td>\n",
       "      <td>Argentina</td>\n",
       "      <td>Kaggle Learn</td>\n",
       "      <td>Using LLMs to Win More Kaggle Competitions</td>\n",
       "      <td>59</td>\n",
       "      <td>6</td>\n",
       "    </tr>\n",
       "    <tr>\n",
       "      <th>4</th>\n",
       "      <td>4</td>\n",
       "      <td>2017-01-01</td>\n",
       "      <td>Argentina</td>\n",
       "      <td>Kaggle Learn</td>\n",
       "      <td>Using LLMs to Write Better</td>\n",
       "      <td>49</td>\n",
       "      <td>6</td>\n",
       "    </tr>\n",
       "    <tr>\n",
       "      <th>...</th>\n",
       "      <td>...</td>\n",
       "      <td>...</td>\n",
       "      <td>...</td>\n",
       "      <td>...</td>\n",
       "      <td>...</td>\n",
       "      <td>...</td>\n",
       "      <td>...</td>\n",
       "    </tr>\n",
       "    <tr>\n",
       "      <th>136945</th>\n",
       "      <td>136945</td>\n",
       "      <td>2021-12-31</td>\n",
       "      <td>Spain</td>\n",
       "      <td>Kagglazon</td>\n",
       "      <td>Using LLMs to Improve Your Coding</td>\n",
       "      <td>700</td>\n",
       "      <td>4</td>\n",
       "    </tr>\n",
       "    <tr>\n",
       "      <th>136946</th>\n",
       "      <td>136946</td>\n",
       "      <td>2021-12-31</td>\n",
       "      <td>Spain</td>\n",
       "      <td>Kagglazon</td>\n",
       "      <td>Using LLMs to Train More LLMs</td>\n",
       "      <td>752</td>\n",
       "      <td>4</td>\n",
       "    </tr>\n",
       "    <tr>\n",
       "      <th>136947</th>\n",
       "      <td>136947</td>\n",
       "      <td>2021-12-31</td>\n",
       "      <td>Spain</td>\n",
       "      <td>Kagglazon</td>\n",
       "      <td>Using LLMs to Win Friends and Influence People</td>\n",
       "      <td>111</td>\n",
       "      <td>4</td>\n",
       "    </tr>\n",
       "    <tr>\n",
       "      <th>136948</th>\n",
       "      <td>136948</td>\n",
       "      <td>2021-12-31</td>\n",
       "      <td>Spain</td>\n",
       "      <td>Kagglazon</td>\n",
       "      <td>Using LLMs to Win More Kaggle Competitions</td>\n",
       "      <td>641</td>\n",
       "      <td>4</td>\n",
       "    </tr>\n",
       "    <tr>\n",
       "      <th>136949</th>\n",
       "      <td>136949</td>\n",
       "      <td>2021-12-31</td>\n",
       "      <td>Spain</td>\n",
       "      <td>Kagglazon</td>\n",
       "      <td>Using LLMs to Write Better</td>\n",
       "      <td>539</td>\n",
       "      <td>4</td>\n",
       "    </tr>\n",
       "  </tbody>\n",
       "</table>\n",
       "<p>136950 rows × 7 columns</p>\n",
       "</div>"
      ],
      "text/plain": [
       "            id        date    country         store  \\\n",
       "0            0  2017-01-01  Argentina  Kaggle Learn   \n",
       "1            1  2017-01-01  Argentina  Kaggle Learn   \n",
       "2            2  2017-01-01  Argentina  Kaggle Learn   \n",
       "3            3  2017-01-01  Argentina  Kaggle Learn   \n",
       "4            4  2017-01-01  Argentina  Kaggle Learn   \n",
       "...        ...         ...        ...           ...   \n",
       "136945  136945  2021-12-31      Spain     Kagglazon   \n",
       "136946  136946  2021-12-31      Spain     Kagglazon   \n",
       "136947  136947  2021-12-31      Spain     Kagglazon   \n",
       "136948  136948  2021-12-31      Spain     Kagglazon   \n",
       "136949  136949  2021-12-31      Spain     Kagglazon   \n",
       "\n",
       "                                               product  num_sold  day_of_week  \n",
       "0                    Using LLMs to Improve Your Coding        63            6  \n",
       "1                        Using LLMs to Train More LLMs        66            6  \n",
       "2       Using LLMs to Win Friends and Influence People         9            6  \n",
       "3           Using LLMs to Win More Kaggle Competitions        59            6  \n",
       "4                           Using LLMs to Write Better        49            6  \n",
       "...                                                ...       ...          ...  \n",
       "136945               Using LLMs to Improve Your Coding       700            4  \n",
       "136946                   Using LLMs to Train More LLMs       752            4  \n",
       "136947  Using LLMs to Win Friends and Influence People       111            4  \n",
       "136948      Using LLMs to Win More Kaggle Competitions       641            4  \n",
       "136949                      Using LLMs to Write Better       539            4  \n",
       "\n",
       "[136950 rows x 7 columns]"
      ]
     },
     "execution_count": 7,
     "metadata": {},
     "output_type": "execute_result"
    }
   ],
   "source": [
    "df"
   ]
  },
  {
   "cell_type": "code",
   "execution_count": 8,
   "id": "48d80046",
   "metadata": {
    "execution": {
     "iopub.execute_input": "2023-07-19T14:53:20.085505Z",
     "iopub.status.busy": "2023-07-19T14:53:20.085073Z",
     "iopub.status.idle": "2023-07-19T15:01:33.754793Z",
     "shell.execute_reply": "2023-07-19T15:01:33.753326Z"
    },
    "papermill": {
     "duration": 493.685458,
     "end_time": "2023-07-19T15:01:33.757614",
     "exception": false,
     "start_time": "2023-07-19T14:53:20.072156",
     "status": "completed"
    },
    "tags": []
   },
   "outputs": [
    {
     "data": {
      "application/vnd.jupyter.widget-view+json": {
       "model_id": "984cd6f54f29407cb389e0994d638b7b",
       "version_major": 2,
       "version_minor": 0
      },
      "text/plain": [
       "  0%|          | 0/136950 [00:00<?, ?it/s]"
      ]
     },
     "metadata": {},
     "output_type": "display_data"
    }
   ],
   "source": [
    "df[\"holiday\"] = df.progress_apply(holiday_encoding, axis=1)"
   ]
  },
  {
   "cell_type": "markdown",
   "id": "8cbdbad9",
   "metadata": {
    "papermill": {
     "duration": 0.011387,
     "end_time": "2023-07-19T15:01:33.780973",
     "exception": false,
     "start_time": "2023-07-19T15:01:33.769586",
     "status": "completed"
    },
    "tags": []
   },
   "source": [
    "Encoding remain features"
   ]
  },
  {
   "cell_type": "code",
   "execution_count": 9,
   "id": "45e5883d",
   "metadata": {
    "execution": {
     "iopub.execute_input": "2023-07-19T15:01:33.808669Z",
     "iopub.status.busy": "2023-07-19T15:01:33.808215Z",
     "iopub.status.idle": "2023-07-19T15:01:33.874879Z",
     "shell.execute_reply": "2023-07-19T15:01:33.873463Z"
    },
    "papermill": {
     "duration": 0.084423,
     "end_time": "2023-07-19T15:01:33.877688",
     "exception": false,
     "start_time": "2023-07-19T15:01:33.793265",
     "status": "completed"
    },
    "tags": []
   },
   "outputs": [],
   "source": [
    "df[\"country\"] = pd.factorize(df[\"country\"])[0] + 1\n",
    "df[\"store\"] = pd.factorize(df[\"store\"])[0] + 1\n",
    "df[\"product\"] = pd.factorize(df[\"product\"])[0] + 1"
   ]
  },
  {
   "cell_type": "code",
   "execution_count": 10,
   "id": "4baff298",
   "metadata": {
    "execution": {
     "iopub.execute_input": "2023-07-19T15:01:33.903638Z",
     "iopub.status.busy": "2023-07-19T15:01:33.903207Z",
     "iopub.status.idle": "2023-07-19T15:01:33.921638Z",
     "shell.execute_reply": "2023-07-19T15:01:33.920362Z"
    },
    "papermill": {
     "duration": 0.034337,
     "end_time": "2023-07-19T15:01:33.924320",
     "exception": false,
     "start_time": "2023-07-19T15:01:33.889983",
     "status": "completed"
    },
    "tags": []
   },
   "outputs": [
    {
     "data": {
      "text/html": [
       "<div>\n",
       "<style scoped>\n",
       "    .dataframe tbody tr th:only-of-type {\n",
       "        vertical-align: middle;\n",
       "    }\n",
       "\n",
       "    .dataframe tbody tr th {\n",
       "        vertical-align: top;\n",
       "    }\n",
       "\n",
       "    .dataframe thead th {\n",
       "        text-align: right;\n",
       "    }\n",
       "</style>\n",
       "<table border=\"1\" class=\"dataframe\">\n",
       "  <thead>\n",
       "    <tr style=\"text-align: right;\">\n",
       "      <th></th>\n",
       "      <th>id</th>\n",
       "      <th>date</th>\n",
       "      <th>country</th>\n",
       "      <th>store</th>\n",
       "      <th>product</th>\n",
       "      <th>num_sold</th>\n",
       "      <th>day_of_week</th>\n",
       "      <th>holiday</th>\n",
       "    </tr>\n",
       "  </thead>\n",
       "  <tbody>\n",
       "    <tr>\n",
       "      <th>0</th>\n",
       "      <td>0</td>\n",
       "      <td>2017-01-01</td>\n",
       "      <td>1</td>\n",
       "      <td>1</td>\n",
       "      <td>1</td>\n",
       "      <td>63</td>\n",
       "      <td>6</td>\n",
       "      <td>1</td>\n",
       "    </tr>\n",
       "    <tr>\n",
       "      <th>1</th>\n",
       "      <td>1</td>\n",
       "      <td>2017-01-01</td>\n",
       "      <td>1</td>\n",
       "      <td>1</td>\n",
       "      <td>2</td>\n",
       "      <td>66</td>\n",
       "      <td>6</td>\n",
       "      <td>1</td>\n",
       "    </tr>\n",
       "    <tr>\n",
       "      <th>2</th>\n",
       "      <td>2</td>\n",
       "      <td>2017-01-01</td>\n",
       "      <td>1</td>\n",
       "      <td>1</td>\n",
       "      <td>3</td>\n",
       "      <td>9</td>\n",
       "      <td>6</td>\n",
       "      <td>1</td>\n",
       "    </tr>\n",
       "    <tr>\n",
       "      <th>3</th>\n",
       "      <td>3</td>\n",
       "      <td>2017-01-01</td>\n",
       "      <td>1</td>\n",
       "      <td>1</td>\n",
       "      <td>4</td>\n",
       "      <td>59</td>\n",
       "      <td>6</td>\n",
       "      <td>1</td>\n",
       "    </tr>\n",
       "    <tr>\n",
       "      <th>4</th>\n",
       "      <td>4</td>\n",
       "      <td>2017-01-01</td>\n",
       "      <td>1</td>\n",
       "      <td>1</td>\n",
       "      <td>5</td>\n",
       "      <td>49</td>\n",
       "      <td>6</td>\n",
       "      <td>1</td>\n",
       "    </tr>\n",
       "    <tr>\n",
       "      <th>...</th>\n",
       "      <td>...</td>\n",
       "      <td>...</td>\n",
       "      <td>...</td>\n",
       "      <td>...</td>\n",
       "      <td>...</td>\n",
       "      <td>...</td>\n",
       "      <td>...</td>\n",
       "      <td>...</td>\n",
       "    </tr>\n",
       "    <tr>\n",
       "      <th>136945</th>\n",
       "      <td>136945</td>\n",
       "      <td>2021-12-31</td>\n",
       "      <td>5</td>\n",
       "      <td>3</td>\n",
       "      <td>1</td>\n",
       "      <td>700</td>\n",
       "      <td>4</td>\n",
       "      <td>0</td>\n",
       "    </tr>\n",
       "    <tr>\n",
       "      <th>136946</th>\n",
       "      <td>136946</td>\n",
       "      <td>2021-12-31</td>\n",
       "      <td>5</td>\n",
       "      <td>3</td>\n",
       "      <td>2</td>\n",
       "      <td>752</td>\n",
       "      <td>4</td>\n",
       "      <td>0</td>\n",
       "    </tr>\n",
       "    <tr>\n",
       "      <th>136947</th>\n",
       "      <td>136947</td>\n",
       "      <td>2021-12-31</td>\n",
       "      <td>5</td>\n",
       "      <td>3</td>\n",
       "      <td>3</td>\n",
       "      <td>111</td>\n",
       "      <td>4</td>\n",
       "      <td>0</td>\n",
       "    </tr>\n",
       "    <tr>\n",
       "      <th>136948</th>\n",
       "      <td>136948</td>\n",
       "      <td>2021-12-31</td>\n",
       "      <td>5</td>\n",
       "      <td>3</td>\n",
       "      <td>4</td>\n",
       "      <td>641</td>\n",
       "      <td>4</td>\n",
       "      <td>0</td>\n",
       "    </tr>\n",
       "    <tr>\n",
       "      <th>136949</th>\n",
       "      <td>136949</td>\n",
       "      <td>2021-12-31</td>\n",
       "      <td>5</td>\n",
       "      <td>3</td>\n",
       "      <td>5</td>\n",
       "      <td>539</td>\n",
       "      <td>4</td>\n",
       "      <td>0</td>\n",
       "    </tr>\n",
       "  </tbody>\n",
       "</table>\n",
       "<p>136950 rows × 8 columns</p>\n",
       "</div>"
      ],
      "text/plain": [
       "            id        date  country  store  product  num_sold  day_of_week  \\\n",
       "0            0  2017-01-01        1      1        1        63            6   \n",
       "1            1  2017-01-01        1      1        2        66            6   \n",
       "2            2  2017-01-01        1      1        3         9            6   \n",
       "3            3  2017-01-01        1      1        4        59            6   \n",
       "4            4  2017-01-01        1      1        5        49            6   \n",
       "...        ...         ...      ...    ...      ...       ...          ...   \n",
       "136945  136945  2021-12-31        5      3        1       700            4   \n",
       "136946  136946  2021-12-31        5      3        2       752            4   \n",
       "136947  136947  2021-12-31        5      3        3       111            4   \n",
       "136948  136948  2021-12-31        5      3        4       641            4   \n",
       "136949  136949  2021-12-31        5      3        5       539            4   \n",
       "\n",
       "        holiday  \n",
       "0             1  \n",
       "1             1  \n",
       "2             1  \n",
       "3             1  \n",
       "4             1  \n",
       "...         ...  \n",
       "136945        0  \n",
       "136946        0  \n",
       "136947        0  \n",
       "136948        0  \n",
       "136949        0  \n",
       "\n",
       "[136950 rows x 8 columns]"
      ]
     },
     "execution_count": 10,
     "metadata": {},
     "output_type": "execute_result"
    }
   ],
   "source": [
    "df"
   ]
  },
  {
   "cell_type": "code",
   "execution_count": 11,
   "id": "97ee7caf",
   "metadata": {
    "execution": {
     "iopub.execute_input": "2023-07-19T15:01:33.950316Z",
     "iopub.status.busy": "2023-07-19T15:01:33.949886Z",
     "iopub.status.idle": "2023-07-19T15:01:33.964206Z",
     "shell.execute_reply": "2023-07-19T15:01:33.962870Z"
    },
    "papermill": {
     "duration": 0.030119,
     "end_time": "2023-07-19T15:01:33.966450",
     "exception": false,
     "start_time": "2023-07-19T15:01:33.936331",
     "status": "completed"
    },
    "tags": []
   },
   "outputs": [],
   "source": [
    "df_train = df.drop([\"id\", \"date\", \"day_of_week\"], axis=1)\n",
    "X = df_train.drop([\"num_sold\"], axis=1)\n",
    "y = df_train[\"num_sold\"]"
   ]
  },
  {
   "cell_type": "code",
   "execution_count": 12,
   "id": "6c8a4edd",
   "metadata": {
    "execution": {
     "iopub.execute_input": "2023-07-19T15:01:33.992981Z",
     "iopub.status.busy": "2023-07-19T15:01:33.992226Z",
     "iopub.status.idle": "2023-07-19T15:01:36.178834Z",
     "shell.execute_reply": "2023-07-19T15:01:36.177493Z"
    },
    "papermill": {
     "duration": 2.202987,
     "end_time": "2023-07-19T15:01:36.181681",
     "exception": false,
     "start_time": "2023-07-19T15:01:33.978694",
     "status": "completed"
    },
    "tags": []
   },
   "outputs": [
    {
     "name": "stderr",
     "output_type": "stream",
     "text": [
      "/opt/conda/lib/python3.10/site-packages/scipy/__init__.py:146: UserWarning: A NumPy version >=1.16.5 and <1.23.0 is required for this version of SciPy (detected version 1.23.5\n",
      "  warnings.warn(f\"A NumPy version >={np_minversion} and <{np_maxversion}\"\n"
     ]
    },
    {
     "data": {
      "text/plain": [
       "<Axes: >"
      ]
     },
     "execution_count": 12,
     "metadata": {},
     "output_type": "execute_result"
    },
    {
     "data": {
      "image/png": "[encoded data removed]",
      "text/plain": [
       "<Figure size 640x480 with 2 Axes>"
      ]
     },
     "metadata": {},
     "output_type": "display_data"
    }
   ],
   "source": [
    "import seaborn as sns\n",
    "\n",
    "sns.heatmap(df_train.corr())"
   ]
  },
  {
   "cell_type": "code",
   "execution_count": 13,
   "id": "25f1d973",
   "metadata": {
    "execution": {
     "iopub.execute_input": "2023-07-19T15:01:36.209999Z",
     "iopub.status.busy": "2023-07-19T15:01:36.209038Z",
     "iopub.status.idle": "2023-07-19T15:01:36.226350Z",
     "shell.execute_reply": "2023-07-19T15:01:36.224978Z"
    },
    "papermill": {
     "duration": 0.034627,
     "end_time": "2023-07-19T15:01:36.229301",
     "exception": false,
     "start_time": "2023-07-19T15:01:36.194674",
     "status": "completed"
    },
    "tags": []
   },
   "outputs": [
    {
     "data": {
      "text/html": [
       "<div>\n",
       "<style scoped>\n",
       "    .dataframe tbody tr th:only-of-type {\n",
       "        vertical-align: middle;\n",
       "    }\n",
       "\n",
       "    .dataframe tbody tr th {\n",
       "        vertical-align: top;\n",
       "    }\n",
       "\n",
       "    .dataframe thead th {\n",
       "        text-align: right;\n",
       "    }\n",
       "</style>\n",
       "<table border=\"1\" class=\"dataframe\">\n",
       "  <thead>\n",
       "    <tr style=\"text-align: right;\">\n",
       "      <th></th>\n",
       "      <th>country</th>\n",
       "      <th>store</th>\n",
       "      <th>product</th>\n",
       "      <th>holiday</th>\n",
       "    </tr>\n",
       "  </thead>\n",
       "  <tbody>\n",
       "    <tr>\n",
       "      <th>0</th>\n",
       "      <td>1</td>\n",
       "      <td>1</td>\n",
       "      <td>1</td>\n",
       "      <td>1</td>\n",
       "    </tr>\n",
       "    <tr>\n",
       "      <th>1</th>\n",
       "      <td>1</td>\n",
       "      <td>1</td>\n",
       "      <td>2</td>\n",
       "      <td>1</td>\n",
       "    </tr>\n",
       "    <tr>\n",
       "      <th>2</th>\n",
       "      <td>1</td>\n",
       "      <td>1</td>\n",
       "      <td>3</td>\n",
       "      <td>1</td>\n",
       "    </tr>\n",
       "    <tr>\n",
       "      <th>3</th>\n",
       "      <td>1</td>\n",
       "      <td>1</td>\n",
       "      <td>4</td>\n",
       "      <td>1</td>\n",
       "    </tr>\n",
       "    <tr>\n",
       "      <th>4</th>\n",
       "      <td>1</td>\n",
       "      <td>1</td>\n",
       "      <td>5</td>\n",
       "      <td>1</td>\n",
       "    </tr>\n",
       "    <tr>\n",
       "      <th>...</th>\n",
       "      <td>...</td>\n",
       "      <td>...</td>\n",
       "      <td>...</td>\n",
       "      <td>...</td>\n",
       "    </tr>\n",
       "    <tr>\n",
       "      <th>136945</th>\n",
       "      <td>5</td>\n",
       "      <td>3</td>\n",
       "      <td>1</td>\n",
       "      <td>0</td>\n",
       "    </tr>\n",
       "    <tr>\n",
       "      <th>136946</th>\n",
       "      <td>5</td>\n",
       "      <td>3</td>\n",
       "      <td>2</td>\n",
       "      <td>0</td>\n",
       "    </tr>\n",
       "    <tr>\n",
       "      <th>136947</th>\n",
       "      <td>5</td>\n",
       "      <td>3</td>\n",
       "      <td>3</td>\n",
       "      <td>0</td>\n",
       "    </tr>\n",
       "    <tr>\n",
       "      <th>136948</th>\n",
       "      <td>5</td>\n",
       "      <td>3</td>\n",
       "      <td>4</td>\n",
       "      <td>0</td>\n",
       "    </tr>\n",
       "    <tr>\n",
       "      <th>136949</th>\n",
       "      <td>5</td>\n",
       "      <td>3</td>\n",
       "      <td>5</td>\n",
       "      <td>0</td>\n",
       "    </tr>\n",
       "  </tbody>\n",
       "</table>\n",
       "<p>136950 rows × 4 columns</p>\n",
       "</div>"
      ],
      "text/plain": [
       "        country  store  product  holiday\n",
       "0             1      1        1        1\n",
       "1             1      1        2        1\n",
       "2             1      1        3        1\n",
       "3             1      1        4        1\n",
       "4             1      1        5        1\n",
       "...         ...    ...      ...      ...\n",
       "136945        5      3        1        0\n",
       "136946        5      3        2        0\n",
       "136947        5      3        3        0\n",
       "136948        5      3        4        0\n",
       "136949        5      3        5        0\n",
       "\n",
       "[136950 rows x 4 columns]"
      ]
     },
     "execution_count": 13,
     "metadata": {},
     "output_type": "execute_result"
    }
   ],
   "source": [
    "X"
   ]
  },
  {
   "cell_type": "code",
   "execution_count": 14,
   "id": "697d2ce7",
   "metadata": {
    "execution": {
     "iopub.execute_input": "2023-07-19T15:01:36.258619Z",
     "iopub.status.busy": "2023-07-19T15:01:36.257920Z",
     "iopub.status.idle": "2023-07-19T15:01:36.266907Z",
     "shell.execute_reply": "2023-07-19T15:01:36.265627Z"
    },
    "papermill": {
     "duration": 0.026889,
     "end_time": "2023-07-19T15:01:36.269710",
     "exception": false,
     "start_time": "2023-07-19T15:01:36.242821",
     "status": "completed"
    },
    "tags": []
   },
   "outputs": [
    {
     "data": {
      "text/plain": [
       "0          63\n",
       "1          66\n",
       "2           9\n",
       "3          59\n",
       "4          49\n",
       "         ... \n",
       "136945    700\n",
       "136946    752\n",
       "136947    111\n",
       "136948    641\n",
       "136949    539\n",
       "Name: num_sold, Length: 136950, dtype: int64"
      ]
     },
     "execution_count": 14,
     "metadata": {},
     "output_type": "execute_result"
    }
   ],
   "source": [
    "y"
   ]
  },
  {
   "cell_type": "code",
   "execution_count": 15,
   "id": "ee4398c0",
   "metadata": {
    "execution": {
     "iopub.execute_input": "2023-07-19T15:01:36.300727Z",
     "iopub.status.busy": "2023-07-19T15:01:36.300283Z",
     "iopub.status.idle": "2023-07-19T15:01:36.902565Z",
     "shell.execute_reply": "2023-07-19T15:01:36.901294Z"
    },
    "papermill": {
     "duration": 0.62251,
     "end_time": "2023-07-19T15:01:36.905529",
     "exception": false,
     "start_time": "2023-07-19T15:01:36.283019",
     "status": "completed"
    },
    "tags": []
   },
   "outputs": [],
   "source": [
    "from xgboost import XGBModel"
   ]
  },
  {
   "cell_type": "code",
   "execution_count": 16,
   "id": "15dce994",
   "metadata": {
    "execution": {
     "iopub.execute_input": "2023-07-19T15:01:36.934647Z",
     "iopub.status.busy": "2023-07-19T15:01:36.934206Z",
     "iopub.status.idle": "2023-07-19T15:01:36.939558Z",
     "shell.execute_reply": "2023-07-19T15:01:36.938395Z"
    },
    "papermill": {
     "duration": 0.023048,
     "end_time": "2023-07-19T15:01:36.941893",
     "exception": false,
     "start_time": "2023-07-19T15:01:36.918845",
     "status": "completed"
    },
    "tags": []
   },
   "outputs": [],
   "source": [
    "model = XGBModel()"
   ]
  },
  {
   "cell_type": "code",
   "execution_count": 17,
   "id": "45d70213",
   "metadata": {
    "execution": {
     "iopub.execute_input": "2023-07-19T15:01:36.975870Z",
     "iopub.status.busy": "2023-07-19T15:01:36.975479Z",
     "iopub.status.idle": "2023-07-19T15:01:40.116420Z",
     "shell.execute_reply": "2023-07-19T15:01:40.115343Z"
    },
    "papermill": {
     "duration": 3.163797,
     "end_time": "2023-07-19T15:01:40.119087",
     "exception": false,
     "start_time": "2023-07-19T15:01:36.955290",
     "status": "completed"
    },
    "tags": []
   },
   "outputs": [
    {
     "data": {
      "text/html": [
       "<style>#sk-container-id-1 {color: black;background-color: white;}#sk-container-id-1 pre{padding: 0;}#sk-container-id-1 div.sk-toggleable {background-color: white;}#sk-container-id-1 label.sk-toggleable__label {cursor: pointer;display: block;width: 100%;margin-bottom: 0;padding: 0.3em;box-sizing: border-box;text-align: center;}#sk-container-id-1 label.sk-toggleable__label-arrow:before {content: \"▸\";float: left;margin-right: 0.25em;color: #696969;}#sk-container-id-1 label.sk-toggleable__label-arrow:hover:before {color: black;}#sk-container-id-1 div.sk-estimator:hover label.sk-toggleable__label-arrow:before {color: black;}#sk-container-id-1 div.sk-toggleable__content {max-height: 0;max-width: 0;overflow: hidden;text-align: left;background-color: #f0f8ff;}#sk-container-id-1 div.sk-toggleable__content pre {margin: 0.2em;color: black;border-radius: 0.25em;background-color: #f0f8ff;}#sk-container-id-1 input.sk-toggleable__control:checked~div.sk-toggleable__content {max-height: 200px;max-width: 100%;overflow: auto;}#sk-container-id-1 input.sk-toggleable__control:checked~label.sk-toggleable__label-arrow:before {content: \"▾\";}#sk-container-id-1 div.sk-estimator input.sk-toggleable__control:checked~label.sk-toggleable__label {background-color: #d4ebff;}#sk-container-id-1 div.sk-label input.sk-toggleable__control:checked~label.sk-toggleable__label {background-color: #d4ebff;}#sk-container-id-1 input.sk-hidden--visually {border: 0;clip: rect(1px 1px 1px 1px);clip: rect(1px, 1px, 1px, 1px);height: 1px;margin: -1px;overflow: hidden;padding: 0;position: absolute;width: 1px;}#sk-container-id-1 div.sk-estimator {font-family: monospace;background-color: #f0f8ff;border: 1px dotted black;border-radius: 0.25em;box-sizing: border-box;margin-bottom: 0.5em;}#sk-container-id-1 div.sk-estimator:hover {background-color: #d4ebff;}#sk-container-id-1 div.sk-parallel-item::after {content: \"\";width: 100%;border-bottom: 1px solid gray;flex-grow: 1;}#sk-container-id-1 div.sk-label:hover label.sk-toggleable__label {background-color: #d4ebff;}#sk-container-id-1 div.sk-serial::before {content: \"\";position: absolute;border-left: 1px solid gray;box-sizing: border-box;top: 0;bottom: 0;left: 50%;z-index: 0;}#sk-container-id-1 div.sk-serial {display: flex;flex-direction: column;align-items: center;background-color: white;padding-right: 0.2em;padding-left: 0.2em;position: relative;}#sk-container-id-1 div.sk-item {position: relative;z-index: 1;}#sk-container-id-1 div.sk-parallel {display: flex;align-items: stretch;justify-content: center;background-color: white;position: relative;}#sk-container-id-1 div.sk-item::before, #sk-container-id-1 div.sk-parallel-item::before {content: \"\";position: absolute;border-left: 1px solid gray;box-sizing: border-box;top: 0;bottom: 0;left: 50%;z-index: -1;}#sk-container-id-1 div.sk-parallel-item {display: flex;flex-direction: column;z-index: 1;position: relative;background-color: white;}#sk-container-id-1 div.sk-parallel-item:first-child::after {align-self: flex-end;width: 50%;}#sk-container-id-1 div.sk-parallel-item:last-child::after {align-self: flex-start;width: 50%;}#sk-container-id-1 div.sk-parallel-item:only-child::after {width: 0;}#sk-container-id-1 div.sk-dashed-wrapped {border: 1px dashed gray;margin: 0 0.4em 0.5em 0.4em;box-sizing: border-box;padding-bottom: 0.4em;background-color: white;}#sk-container-id-1 div.sk-label label {font-family: monospace;font-weight: bold;display: inline-block;line-height: 1.2em;}#sk-container-id-1 div.sk-label-container {text-align: center;}#sk-container-id-1 div.sk-container {/* jupyter's `normalize.less` sets `[hidden] { display: none; }` but bootstrap.min.css set `[hidden] { display: none !important; }` so we also need the `!important` here to be able to override the default hidden behavior on the sphinx rendered scikit-learn.org. See: https://github.com/scikit-learn/scikit-learn/issues/21755 */display: inline-block !important;position: relative;}#sk-container-id-1 div.sk-text-repr-fallback {display: none;}</style><div id=\"sk-container-id-1\" class=\"sk-top-container\"><div class=\"sk-text-repr-fallback\"><pre>XGBModel()</pre><b>In a Jupyter environment, please rerun this cell to show the HTML representation or trust the notebook. <br />On GitHub, the HTML representation is unable to render, please try loading this page with nbviewer.org.</b></div><div class=\"sk-container\" hidden><div class=\"sk-item\"><div class=\"sk-estimator sk-toggleable\"><input class=\"sk-toggleable__control sk-hidden--visually\" id=\"sk-estimator-id-1\" type=\"checkbox\" checked><label for=\"sk-estimator-id-1\" class=\"sk-toggleable__label sk-toggleable__label-arrow\">XGBModel</label><div class=\"sk-toggleable__content\"><pre>XGBModel()</pre></div></div></div></div></div>"
      ],
      "text/plain": [
       "XGBModel()"
      ]
     },
     "execution_count": 17,
     "metadata": {},
     "output_type": "execute_result"
    }
   ],
   "source": [
    "model.fit(X, y)"
   ]
  },
  {
   "cell_type": "code",
   "execution_count": 18,
   "id": "e576f024",
   "metadata": {
    "execution": {
     "iopub.execute_input": "2023-07-19T15:01:40.148569Z",
     "iopub.status.busy": "2023-07-19T15:01:40.147815Z",
     "iopub.status.idle": "2023-07-19T15:01:40.205278Z",
     "shell.execute_reply": "2023-07-19T15:01:40.204365Z"
    },
    "papermill": {
     "duration": 0.074999,
     "end_time": "2023-07-19T15:01:40.207798",
     "exception": false,
     "start_time": "2023-07-19T15:01:40.132799",
     "status": "completed"
    },
    "tags": []
   },
   "outputs": [],
   "source": [
    "test_df = pd.read_csv(\"/kaggle/input/playground-series-s3e19/test.csv\")"
   ]
  },
  {
   "cell_type": "code",
   "execution_count": 19,
   "id": "dd1d9539",
   "metadata": {
    "execution": {
     "iopub.execute_input": "2023-07-19T15:01:40.236668Z",
     "iopub.status.busy": "2023-07-19T15:01:40.236010Z",
     "iopub.status.idle": "2023-07-19T15:01:40.249525Z",
     "shell.execute_reply": "2023-07-19T15:01:40.248716Z"
    },
    "papermill": {
     "duration": 0.030559,
     "end_time": "2023-07-19T15:01:40.251659",
     "exception": false,
     "start_time": "2023-07-19T15:01:40.221100",
     "status": "completed"
    },
    "tags": []
   },
   "outputs": [
    {
     "data": {
      "text/html": [
       "<div>\n",
       "<style scoped>\n",
       "    .dataframe tbody tr th:only-of-type {\n",
       "        vertical-align: middle;\n",
       "    }\n",
       "\n",
       "    .dataframe tbody tr th {\n",
       "        vertical-align: top;\n",
       "    }\n",
       "\n",
       "    .dataframe thead th {\n",
       "        text-align: right;\n",
       "    }\n",
       "</style>\n",
       "<table border=\"1\" class=\"dataframe\">\n",
       "  <thead>\n",
       "    <tr style=\"text-align: right;\">\n",
       "      <th></th>\n",
       "      <th>id</th>\n",
       "      <th>date</th>\n",
       "      <th>country</th>\n",
       "      <th>store</th>\n",
       "      <th>product</th>\n",
       "    </tr>\n",
       "  </thead>\n",
       "  <tbody>\n",
       "    <tr>\n",
       "      <th>0</th>\n",
       "      <td>136950</td>\n",
       "      <td>2022-01-01</td>\n",
       "      <td>Argentina</td>\n",
       "      <td>Kaggle Learn</td>\n",
       "      <td>Using LLMs to Improve Your Coding</td>\n",
       "    </tr>\n",
       "    <tr>\n",
       "      <th>1</th>\n",
       "      <td>136951</td>\n",
       "      <td>2022-01-01</td>\n",
       "      <td>Argentina</td>\n",
       "      <td>Kaggle Learn</td>\n",
       "      <td>Using LLMs to Train More LLMs</td>\n",
       "    </tr>\n",
       "    <tr>\n",
       "      <th>2</th>\n",
       "      <td>136952</td>\n",
       "      <td>2022-01-01</td>\n",
       "      <td>Argentina</td>\n",
       "      <td>Kaggle Learn</td>\n",
       "      <td>Using LLMs to Win Friends and Influence People</td>\n",
       "    </tr>\n",
       "    <tr>\n",
       "      <th>3</th>\n",
       "      <td>136953</td>\n",
       "      <td>2022-01-01</td>\n",
       "      <td>Argentina</td>\n",
       "      <td>Kaggle Learn</td>\n",
       "      <td>Using LLMs to Win More Kaggle Competitions</td>\n",
       "    </tr>\n",
       "    <tr>\n",
       "      <th>4</th>\n",
       "      <td>136954</td>\n",
       "      <td>2022-01-01</td>\n",
       "      <td>Argentina</td>\n",
       "      <td>Kaggle Learn</td>\n",
       "      <td>Using LLMs to Write Better</td>\n",
       "    </tr>\n",
       "    <tr>\n",
       "      <th>...</th>\n",
       "      <td>...</td>\n",
       "      <td>...</td>\n",
       "      <td>...</td>\n",
       "      <td>...</td>\n",
       "      <td>...</td>\n",
       "    </tr>\n",
       "    <tr>\n",
       "      <th>27370</th>\n",
       "      <td>164320</td>\n",
       "      <td>2022-12-31</td>\n",
       "      <td>Spain</td>\n",
       "      <td>Kagglazon</td>\n",
       "      <td>Using LLMs to Improve Your Coding</td>\n",
       "    </tr>\n",
       "    <tr>\n",
       "      <th>27371</th>\n",
       "      <td>164321</td>\n",
       "      <td>2022-12-31</td>\n",
       "      <td>Spain</td>\n",
       "      <td>Kagglazon</td>\n",
       "      <td>Using LLMs to Train More LLMs</td>\n",
       "    </tr>\n",
       "    <tr>\n",
       "      <th>27372</th>\n",
       "      <td>164322</td>\n",
       "      <td>2022-12-31</td>\n",
       "      <td>Spain</td>\n",
       "      <td>Kagglazon</td>\n",
       "      <td>Using LLMs to Win Friends and Influence People</td>\n",
       "    </tr>\n",
       "    <tr>\n",
       "      <th>27373</th>\n",
       "      <td>164323</td>\n",
       "      <td>2022-12-31</td>\n",
       "      <td>Spain</td>\n",
       "      <td>Kagglazon</td>\n",
       "      <td>Using LLMs to Win More Kaggle Competitions</td>\n",
       "    </tr>\n",
       "    <tr>\n",
       "      <th>27374</th>\n",
       "      <td>164324</td>\n",
       "      <td>2022-12-31</td>\n",
       "      <td>Spain</td>\n",
       "      <td>Kagglazon</td>\n",
       "      <td>Using LLMs to Write Better</td>\n",
       "    </tr>\n",
       "  </tbody>\n",
       "</table>\n",
       "<p>27375 rows × 5 columns</p>\n",
       "</div>"
      ],
      "text/plain": [
       "           id        date    country         store  \\\n",
       "0      136950  2022-01-01  Argentina  Kaggle Learn   \n",
       "1      136951  2022-01-01  Argentina  Kaggle Learn   \n",
       "2      136952  2022-01-01  Argentina  Kaggle Learn   \n",
       "3      136953  2022-01-01  Argentina  Kaggle Learn   \n",
       "4      136954  2022-01-01  Argentina  Kaggle Learn   \n",
       "...       ...         ...        ...           ...   \n",
       "27370  164320  2022-12-31      Spain     Kagglazon   \n",
       "27371  164321  2022-12-31      Spain     Kagglazon   \n",
       "27372  164322  2022-12-31      Spain     Kagglazon   \n",
       "27373  164323  2022-12-31      Spain     Kagglazon   \n",
       "27374  164324  2022-12-31      Spain     Kagglazon   \n",
       "\n",
       "                                              product  \n",
       "0                   Using LLMs to Improve Your Coding  \n",
       "1                       Using LLMs to Train More LLMs  \n",
       "2      Using LLMs to Win Friends and Influence People  \n",
       "3          Using LLMs to Win More Kaggle Competitions  \n",
       "4                          Using LLMs to Write Better  \n",
       "...                                               ...  \n",
       "27370               Using LLMs to Improve Your Coding  \n",
       "27371                   Using LLMs to Train More LLMs  \n",
       "27372  Using LLMs to Win Friends and Influence People  \n",
       "27373      Using LLMs to Win More Kaggle Competitions  \n",
       "27374                      Using LLMs to Write Better  \n",
       "\n",
       "[27375 rows x 5 columns]"
      ]
     },
     "execution_count": 19,
     "metadata": {},
     "output_type": "execute_result"
    }
   ],
   "source": [
    "test_df"
   ]
  },
  {
   "cell_type": "code",
   "execution_count": 20,
   "id": "9be2ceba",
   "metadata": {
    "execution": {
     "iopub.execute_input": "2023-07-19T15:01:40.281350Z",
     "iopub.status.busy": "2023-07-19T15:01:40.280495Z",
     "iopub.status.idle": "2023-07-19T15:03:18.649633Z",
     "shell.execute_reply": "2023-07-19T15:03:18.648319Z"
    },
    "papermill": {
     "duration": 98.386903,
     "end_time": "2023-07-19T15:03:18.652171",
     "exception": false,
     "start_time": "2023-07-19T15:01:40.265268",
     "status": "completed"
    },
    "tags": []
   },
   "outputs": [
    {
     "data": {
      "application/vnd.jupyter.widget-view+json": {
       "model_id": "88d11714f14f43bdbed5a84a887f6b24",
       "version_major": 2,
       "version_minor": 0
      },
      "text/plain": [
       "  0%|          | 0/27375 [00:00<?, ?it/s]"
      ]
     },
     "metadata": {},
     "output_type": "display_data"
    }
   ],
   "source": [
    "test_df[\"day_of_week\"] = pd.to_datetime(test_df[\"date\"]).dt.weekday\n",
    "test_df[\"holiday\"] = test_df.progress_apply(holiday_encoding, axis=1)"
   ]
  },
  {
   "cell_type": "code",
   "execution_count": 21,
   "id": "2668eaa2",
   "metadata": {
    "execution": {
     "iopub.execute_input": "2023-07-19T15:03:18.683258Z",
     "iopub.status.busy": "2023-07-19T15:03:18.682089Z",
     "iopub.status.idle": "2023-07-19T15:03:18.701586Z",
     "shell.execute_reply": "2023-07-19T15:03:18.700252Z"
    },
    "papermill": {
     "duration": 0.038374,
     "end_time": "2023-07-19T15:03:18.704512",
     "exception": false,
     "start_time": "2023-07-19T15:03:18.666138",
     "status": "completed"
    },
    "tags": []
   },
   "outputs": [],
   "source": [
    "test_df[\"country\"] = pd.factorize(test_df[\"country\"])[0] + 1\n",
    "test_df[\"store\"] = pd.factorize(test_df[\"store\"])[0] + 1\n",
    "test_df[\"product\"] = pd.factorize(test_df[\"product\"])[0] + 1"
   ]
  },
  {
   "cell_type": "code",
   "execution_count": 22,
   "id": "c4b4f473",
   "metadata": {
    "execution": {
     "iopub.execute_input": "2023-07-19T15:03:18.734336Z",
     "iopub.status.busy": "2023-07-19T15:03:18.733902Z",
     "iopub.status.idle": "2023-07-19T15:03:18.739204Z",
     "shell.execute_reply": "2023-07-19T15:03:18.738364Z"
    },
    "papermill": {
     "duration": 0.022925,
     "end_time": "2023-07-19T15:03:18.741386",
     "exception": false,
     "start_time": "2023-07-19T15:03:18.718461",
     "status": "completed"
    },
    "tags": []
   },
   "outputs": [],
   "source": [
    "ids = test_df[\"id\"]"
   ]
  },
  {
   "cell_type": "code",
   "execution_count": 23,
   "id": "023df18d",
   "metadata": {
    "execution": {
     "iopub.execute_input": "2023-07-19T15:03:18.771425Z",
     "iopub.status.busy": "2023-07-19T15:03:18.770664Z",
     "iopub.status.idle": "2023-07-19T15:03:18.787075Z",
     "shell.execute_reply": "2023-07-19T15:03:18.785895Z"
    },
    "papermill": {
     "duration": 0.034546,
     "end_time": "2023-07-19T15:03:18.789813",
     "exception": false,
     "start_time": "2023-07-19T15:03:18.755267",
     "status": "completed"
    },
    "tags": []
   },
   "outputs": [
    {
     "data": {
      "text/html": [
       "<div>\n",
       "<style scoped>\n",
       "    .dataframe tbody tr th:only-of-type {\n",
       "        vertical-align: middle;\n",
       "    }\n",
       "\n",
       "    .dataframe tbody tr th {\n",
       "        vertical-align: top;\n",
       "    }\n",
       "\n",
       "    .dataframe thead th {\n",
       "        text-align: right;\n",
       "    }\n",
       "</style>\n",
       "<table border=\"1\" class=\"dataframe\">\n",
       "  <thead>\n",
       "    <tr style=\"text-align: right;\">\n",
       "      <th></th>\n",
       "      <th>id</th>\n",
       "      <th>date</th>\n",
       "      <th>country</th>\n",
       "      <th>store</th>\n",
       "      <th>product</th>\n",
       "      <th>day_of_week</th>\n",
       "      <th>holiday</th>\n",
       "    </tr>\n",
       "  </thead>\n",
       "  <tbody>\n",
       "    <tr>\n",
       "      <th>0</th>\n",
       "      <td>136950</td>\n",
       "      <td>2022-01-01</td>\n",
       "      <td>1</td>\n",
       "      <td>1</td>\n",
       "      <td>1</td>\n",
       "      <td>5</td>\n",
       "      <td>1</td>\n",
       "    </tr>\n",
       "    <tr>\n",
       "      <th>1</th>\n",
       "      <td>136951</td>\n",
       "      <td>2022-01-01</td>\n",
       "      <td>1</td>\n",
       "      <td>1</td>\n",
       "      <td>2</td>\n",
       "      <td>5</td>\n",
       "      <td>1</td>\n",
       "    </tr>\n",
       "    <tr>\n",
       "      <th>2</th>\n",
       "      <td>136952</td>\n",
       "      <td>2022-01-01</td>\n",
       "      <td>1</td>\n",
       "      <td>1</td>\n",
       "      <td>3</td>\n",
       "      <td>5</td>\n",
       "      <td>1</td>\n",
       "    </tr>\n",
       "    <tr>\n",
       "      <th>3</th>\n",
       "      <td>136953</td>\n",
       "      <td>2022-01-01</td>\n",
       "      <td>1</td>\n",
       "      <td>1</td>\n",
       "      <td>4</td>\n",
       "      <td>5</td>\n",
       "      <td>1</td>\n",
       "    </tr>\n",
       "    <tr>\n",
       "      <th>4</th>\n",
       "      <td>136954</td>\n",
       "      <td>2022-01-01</td>\n",
       "      <td>1</td>\n",
       "      <td>1</td>\n",
       "      <td>5</td>\n",
       "      <td>5</td>\n",
       "      <td>1</td>\n",
       "    </tr>\n",
       "    <tr>\n",
       "      <th>...</th>\n",
       "      <td>...</td>\n",
       "      <td>...</td>\n",
       "      <td>...</td>\n",
       "      <td>...</td>\n",
       "      <td>...</td>\n",
       "      <td>...</td>\n",
       "      <td>...</td>\n",
       "    </tr>\n",
       "    <tr>\n",
       "      <th>27370</th>\n",
       "      <td>164320</td>\n",
       "      <td>2022-12-31</td>\n",
       "      <td>5</td>\n",
       "      <td>3</td>\n",
       "      <td>1</td>\n",
       "      <td>5</td>\n",
       "      <td>0</td>\n",
       "    </tr>\n",
       "    <tr>\n",
       "      <th>27371</th>\n",
       "      <td>164321</td>\n",
       "      <td>2022-12-31</td>\n",
       "      <td>5</td>\n",
       "      <td>3</td>\n",
       "      <td>2</td>\n",
       "      <td>5</td>\n",
       "      <td>0</td>\n",
       "    </tr>\n",
       "    <tr>\n",
       "      <th>27372</th>\n",
       "      <td>164322</td>\n",
       "      <td>2022-12-31</td>\n",
       "      <td>5</td>\n",
       "      <td>3</td>\n",
       "      <td>3</td>\n",
       "      <td>5</td>\n",
       "      <td>0</td>\n",
       "    </tr>\n",
       "    <tr>\n",
       "      <th>27373</th>\n",
       "      <td>164323</td>\n",
       "      <td>2022-12-31</td>\n",
       "      <td>5</td>\n",
       "      <td>3</td>\n",
       "      <td>4</td>\n",
       "      <td>5</td>\n",
       "      <td>0</td>\n",
       "    </tr>\n",
       "    <tr>\n",
       "      <th>27374</th>\n",
       "      <td>164324</td>\n",
       "      <td>2022-12-31</td>\n",
       "      <td>5</td>\n",
       "      <td>3</td>\n",
       "      <td>5</td>\n",
       "      <td>5</td>\n",
       "      <td>0</td>\n",
       "    </tr>\n",
       "  </tbody>\n",
       "</table>\n",
       "<p>27375 rows × 7 columns</p>\n",
       "</div>"
      ],
      "text/plain": [
       "           id        date  country  store  product  day_of_week  holiday\n",
       "0      136950  2022-01-01        1      1        1            5        1\n",
       "1      136951  2022-01-01        1      1        2            5        1\n",
       "2      136952  2022-01-01        1      1        3            5        1\n",
       "3      136953  2022-01-01        1      1        4            5        1\n",
       "4      136954  2022-01-01        1      1        5            5        1\n",
       "...       ...         ...      ...    ...      ...          ...      ...\n",
       "27370  164320  2022-12-31        5      3        1            5        0\n",
       "27371  164321  2022-12-31        5      3        2            5        0\n",
       "27372  164322  2022-12-31        5      3        3            5        0\n",
       "27373  164323  2022-12-31        5      3        4            5        0\n",
       "27374  164324  2022-12-31        5      3        5            5        0\n",
       "\n",
       "[27375 rows x 7 columns]"
      ]
     },
     "execution_count": 23,
     "metadata": {},
     "output_type": "execute_result"
    }
   ],
   "source": [
    "test_df"
   ]
  },
  {
   "cell_type": "code",
   "execution_count": 24,
   "id": "67518d2b",
   "metadata": {
    "execution": {
     "iopub.execute_input": "2023-07-19T15:03:18.821659Z",
     "iopub.status.busy": "2023-07-19T15:03:18.821030Z",
     "iopub.status.idle": "2023-07-19T15:03:18.829003Z",
     "shell.execute_reply": "2023-07-19T15:03:18.827660Z"
    },
    "papermill": {
     "duration": 0.027416,
     "end_time": "2023-07-19T15:03:18.831842",
     "exception": false,
     "start_time": "2023-07-19T15:03:18.804426",
     "status": "completed"
    },
    "tags": []
   },
   "outputs": [],
   "source": [
    "test_df=test_df.drop([\"id\", \"date\"], axis=1)"
   ]
  },
  {
   "cell_type": "code",
   "execution_count": 25,
   "id": "b95e0faa",
   "metadata": {
    "execution": {
     "iopub.execute_input": "2023-07-19T15:03:18.865237Z",
     "iopub.status.busy": "2023-07-19T15:03:18.864431Z",
     "iopub.status.idle": "2023-07-19T15:03:18.871568Z",
     "shell.execute_reply": "2023-07-19T15:03:18.870593Z"
    },
    "papermill": {
     "duration": 0.026886,
     "end_time": "2023-07-19T15:03:18.873946",
     "exception": false,
     "start_time": "2023-07-19T15:03:18.847060",
     "status": "completed"
    },
    "tags": []
   },
   "outputs": [],
   "source": [
    "test_df=test_df.drop([\"day_of_week\"], axis=1)"
   ]
  },
  {
   "cell_type": "code",
   "execution_count": 26,
   "id": "1f02d89d",
   "metadata": {
    "execution": {
     "iopub.execute_input": "2023-07-19T15:03:18.905035Z",
     "iopub.status.busy": "2023-07-19T15:03:18.904300Z",
     "iopub.status.idle": "2023-07-19T15:03:18.940395Z",
     "shell.execute_reply": "2023-07-19T15:03:18.939187Z"
    },
    "papermill": {
     "duration": 0.054973,
     "end_time": "2023-07-19T15:03:18.943238",
     "exception": false,
     "start_time": "2023-07-19T15:03:18.888265",
     "status": "completed"
    },
    "tags": []
   },
   "outputs": [],
   "source": [
    "test_result = model.predict(test_df)"
   ]
  },
  {
   "cell_type": "code",
   "execution_count": 27,
   "id": "f47708e8",
   "metadata": {
    "execution": {
     "iopub.execute_input": "2023-07-19T15:03:18.975552Z",
     "iopub.status.busy": "2023-07-19T15:03:18.975141Z",
     "iopub.status.idle": "2023-07-19T15:03:18.983314Z",
     "shell.execute_reply": "2023-07-19T15:03:18.981933Z"
    },
    "papermill": {
     "duration": 0.026354,
     "end_time": "2023-07-19T15:03:18.985695",
     "exception": false,
     "start_time": "2023-07-19T15:03:18.959341",
     "status": "completed"
    },
    "tags": []
   },
   "outputs": [
    {
     "data": {
      "text/plain": [
       "array([ 28.589037,  29.41554 ,   4.204388, ...,  66.94242 , 360.6018  ,\n",
       "       328.8545  ], dtype=float32)"
      ]
     },
     "execution_count": 27,
     "metadata": {},
     "output_type": "execute_result"
    }
   ],
   "source": [
    "test_result"
   ]
  },
  {
   "cell_type": "code",
   "execution_count": 28,
   "id": "876de91a",
   "metadata": {
    "execution": {
     "iopub.execute_input": "2023-07-19T15:03:19.016780Z",
     "iopub.status.busy": "2023-07-19T15:03:19.016329Z",
     "iopub.status.idle": "2023-07-19T15:03:19.066225Z",
     "shell.execute_reply": "2023-07-19T15:03:19.064999Z"
    },
    "papermill": {
     "duration": 0.069323,
     "end_time": "2023-07-19T15:03:19.069610",
     "exception": false,
     "start_time": "2023-07-19T15:03:19.000287",
     "status": "completed"
    },
    "tags": []
   },
   "outputs": [],
   "source": [
    "result_frame=pd.DataFrame(list(zip(ids, test_result)), columns=[\"id\", \"num_sold\"])"
   ]
  },
  {
   "cell_type": "code",
   "execution_count": 29,
   "id": "a844ef19",
   "metadata": {
    "execution": {
     "iopub.execute_input": "2023-07-19T15:03:19.101187Z",
     "iopub.status.busy": "2023-07-19T15:03:19.100767Z",
     "iopub.status.idle": "2023-07-19T15:03:19.114515Z",
     "shell.execute_reply": "2023-07-19T15:03:19.113307Z"
    },
    "papermill": {
     "duration": 0.032432,
     "end_time": "2023-07-19T15:03:19.117213",
     "exception": false,
     "start_time": "2023-07-19T15:03:19.084781",
     "status": "completed"
    },
    "tags": []
   },
   "outputs": [
    {
     "data": {
      "text/html": [
       "<div>\n",
       "<style scoped>\n",
       "    .dataframe tbody tr th:only-of-type {\n",
       "        vertical-align: middle;\n",
       "    }\n",
       "\n",
       "    .dataframe tbody tr th {\n",
       "        vertical-align: top;\n",
       "    }\n",
       "\n",
       "    .dataframe thead th {\n",
       "        text-align: right;\n",
       "    }\n",
       "</style>\n",
       "<table border=\"1\" class=\"dataframe\">\n",
       "  <thead>\n",
       "    <tr style=\"text-align: right;\">\n",
       "      <th></th>\n",
       "      <th>id</th>\n",
       "      <th>num_sold</th>\n",
       "    </tr>\n",
       "  </thead>\n",
       "  <tbody>\n",
       "    <tr>\n",
       "      <th>0</th>\n",
       "      <td>136950</td>\n",
       "      <td>28.589037</td>\n",
       "    </tr>\n",
       "    <tr>\n",
       "      <th>1</th>\n",
       "      <td>136951</td>\n",
       "      <td>29.415541</td>\n",
       "    </tr>\n",
       "    <tr>\n",
       "      <th>2</th>\n",
       "      <td>136952</td>\n",
       "      <td>4.204388</td>\n",
       "    </tr>\n",
       "    <tr>\n",
       "      <th>3</th>\n",
       "      <td>136953</td>\n",
       "      <td>24.682323</td>\n",
       "    </tr>\n",
       "    <tr>\n",
       "      <th>4</th>\n",
       "      <td>136954</td>\n",
       "      <td>23.222773</td>\n",
       "    </tr>\n",
       "    <tr>\n",
       "      <th>...</th>\n",
       "      <td>...</td>\n",
       "      <td>...</td>\n",
       "    </tr>\n",
       "    <tr>\n",
       "      <th>27370</th>\n",
       "      <td>164320</td>\n",
       "      <td>432.231537</td>\n",
       "    </tr>\n",
       "    <tr>\n",
       "      <th>27371</th>\n",
       "      <td>164321</td>\n",
       "      <td>427.327240</td>\n",
       "    </tr>\n",
       "    <tr>\n",
       "      <th>27372</th>\n",
       "      <td>164322</td>\n",
       "      <td>66.942421</td>\n",
       "    </tr>\n",
       "    <tr>\n",
       "      <th>27373</th>\n",
       "      <td>164323</td>\n",
       "      <td>360.601807</td>\n",
       "    </tr>\n",
       "    <tr>\n",
       "      <th>27374</th>\n",
       "      <td>164324</td>\n",
       "      <td>328.854492</td>\n",
       "    </tr>\n",
       "  </tbody>\n",
       "</table>\n",
       "<p>27375 rows × 2 columns</p>\n",
       "</div>"
      ],
      "text/plain": [
       "           id    num_sold\n",
       "0      136950   28.589037\n",
       "1      136951   29.415541\n",
       "2      136952    4.204388\n",
       "3      136953   24.682323\n",
       "4      136954   23.222773\n",
       "...       ...         ...\n",
       "27370  164320  432.231537\n",
       "27371  164321  427.327240\n",
       "27372  164322   66.942421\n",
       "27373  164323  360.601807\n",
       "27374  164324  328.854492\n",
       "\n",
       "[27375 rows x 2 columns]"
      ]
     },
     "execution_count": 29,
     "metadata": {},
     "output_type": "execute_result"
    }
   ],
   "source": [
    "result_frame"
   ]
  },
  {
   "cell_type": "code",
   "execution_count": 30,
   "id": "c7b8d479",
   "metadata": {
    "execution": {
     "iopub.execute_input": "2023-07-19T15:03:19.148575Z",
     "iopub.status.busy": "2023-07-19T15:03:19.148190Z",
     "iopub.status.idle": "2023-07-19T15:03:19.247940Z",
     "shell.execute_reply": "2023-07-19T15:03:19.246412Z"
    },
    "papermill": {
     "duration": 0.118619,
     "end_time": "2023-07-19T15:03:19.250794",
     "exception": false,
     "start_time": "2023-07-19T15:03:19.132175",
     "status": "completed"
    },
    "tags": []
   },
   "outputs": [],
   "source": [
    "result_frame.to_csv(\"result.csv\", index=False)"
   ]
  },
  {
   "cell_type": "code",
   "execution_count": null,
   "id": "3100388c",
   "metadata": {
    "papermill": {
     "duration": 0.01451,
     "end_time": "2023-07-19T15:03:19.280240",
     "exception": false,
     "start_time": "2023-07-19T15:03:19.265730",
     "status": "completed"
    },
    "tags": []
   },
   "outputs": [],
   "source": []
  }
 ],
 "metadata": {
  "kernelspec": {
   "display_name": "Python 3",
   "language": "python",
   "name": "python3"
  },
  "language_info": {
   "codemirror_mode": {
    "name": "ipython",
    "version": 3
   },
   "file_extension": ".py",
   "mimetype": "text/x-python",
   "name": "python",
   "nbconvert_exporter": "python",
   "pygments_lexer": "ipython3",
   "version": "3.10.12"
  },
  "papermill": {
   "default_parameters": {},
   "duration": 613.210087,
   "end_time": "2023-07-19T15:03:20.423575",
   "environment_variables": {},
   "exception": null,
   "input_path": "__notebook__.ipynb",
   "output_path": "__notebook__.ipynb",
   "parameters": {},
   "start_time": "2023-07-19T14:53:07.213488",
   "version": "2.4.0"
  },
  "widgets": {
   "application/vnd.jupyter.widget-state+json": {
    "state": {
     "051a5787258b4851badfac76f899d72c": {
      "model_module": "@jupyter-widgets/base",
      "model_module_version": "1.2.0",
      "model_name": "LayoutModel",
      "state": {
       "_model_module": "@jupyter-widgets/base",
       "_model_module_version": "1.2.0",
       "_model_name": "LayoutModel",
       "_view_count": null,
       "_view_module": "@jupyter-widgets/base",
       "_view_module_version": "1.2.0",
       "_view_name": "LayoutView",
       "align_content": null,
       "align_items": null,
       "align_self": null,
       "border": null,
       "bottom": null,
       "display": null,
       "flex": null,
       "flex_flow": null,
       "grid_area": null,
       "grid_auto_columns": null,
       "grid_auto_flow": null,
       "grid_auto_rows": null,
       "grid_column": null,
       "grid_gap": null,
       "grid_row": null,
       "grid_template_areas": null,
       "grid_template_columns": null,
       "grid_template_rows": null,
       "height": null,
       "justify_content": null,
       "justify_items": null,
       "left": null,
       "margin": null,
       "max_height": null,
       "max_width": null,
       "min_height": null,
       "min_width": null,
       "object_fit": null,
       "object_position": null,
       "order": null,
       "overflow": null,
       "overflow_x": null,
       "overflow_y": null,
       "padding": null,
       "right": null,
       "top": null,
       "visibility": null,
       "width": null
      }
     },
     "5f0cc59539784e56be1f18fcb49f17ff": {
      "model_module": "@jupyter-widgets/controls",
      "model_module_version": "1.5.0",
      "model_name": "ProgressStyleModel",
      "state": {
       "_model_module": "@jupyter-widgets/controls",
       "_model_module_version": "1.5.0",
       "_model_name": "ProgressStyleModel",
       "_view_count": null,
       "_view_module": "@jupyter-widgets/base",
       "_view_module_version": "1.2.0",
       "_view_name": "StyleView",
       "bar_color": null,
       "description_width": ""
      }
     },
     "6284dfc1f9e247e3a6ac51ea2af1aa57": {
      "model_module": "@jupyter-widgets/base",
      "model_module_version": "1.2.0",
      "model_name": "LayoutModel",
      "state": {
       "_model_module": "@jupyter-widgets/base",
       "_model_module_version": "1.2.0",
       "_model_name": "LayoutModel",
       "_view_count": null,
       "_view_module": "@jupyter-widgets/base",
       "_view_module_version": "1.2.0",
       "_view_name": "LayoutView",
       "align_content": null,
       "align_items": null,
       "align_self": null,
       "border": null,
       "bottom": null,
       "display": null,
       "flex": null,
       "flex_flow": null,
       "grid_area": null,
       "grid_auto_columns": null,
       "grid_auto_flow": null,
       "grid_auto_rows": null,
       "grid_column": null,
       "grid_gap": null,
       "grid_row": null,
       "grid_template_areas": null,
       "grid_template_columns": null,
       "grid_template_rows": null,
       "height": null,
       "justify_content": null,
       "justify_items": null,
       "left": null,
       "margin": null,
       "max_height": null,
       "max_width": null,
       "min_height": null,
       "min_width": null,
       "object_fit": null,
       "object_position": null,
       "order": null,
       "overflow": null,
       "overflow_x": null,
       "overflow_y": null,
       "padding": null,
       "right": null,
       "top": null,
       "visibility": null,
       "width": null
      }
     },
     "668eb6b6973a4da9b116ebfb523b8410": {
      "model_module": "@jupyter-widgets/controls",
      "model_module_version": "1.5.0",
      "model_name": "FloatProgressModel",
      "state": {
       "_dom_classes": [],
       "_model_module": "@jupyter-widgets/controls",
       "_model_module_version": "1.5.0",
       "_model_name": "FloatProgressModel",
       "_view_count": null,
       "_view_module": "@jupyter-widgets/controls",
       "_view_module_version": "1.5.0",
       "_view_name": "ProgressView",
       "bar_style": "success",
       "description": "",
       "description_tooltip": null,
       "layout": "IPY_MODEL_cb913c98707a473aa73bfc25498327f4",
       "max": 136950.0,
       "min": 0.0,
       "orientation": "horizontal",
       "style": "IPY_MODEL_87e8b353f2be401cbaa33b57efd808f4",
       "value": 136950.0
      }
     },
     "6d1d1eed90b145b9bb2b1a99868d3e45": {
      "model_module": "@jupyter-widgets/controls",
      "model_module_version": "1.5.0",
      "model_name": "HTMLModel",
      "state": {
       "_dom_classes": [],
       "_model_module": "@jupyter-widgets/controls",
       "_model_module_version": "1.5.0",
       "_model_name": "HTMLModel",
       "_view_count": null,
       "_view_module": "@jupyter-widgets/controls",
       "_view_module_version": "1.5.0",
       "_view_name": "HTMLView",
       "description": "",
       "description_tooltip": null,
       "layout": "IPY_MODEL_a5c0072bcda64aa19d0cde294a066c5f",
       "placeholder": "​",
       "style": "IPY_MODEL_7c9af041032c4979becb061dcb01f76a",
       "value": "100%"
      }
     },
     "79e488afd95746d98f7730c315246ede": {
      "model_module": "@jupyter-widgets/base",
      "model_module_version": "1.2.0",
      "model_name": "LayoutModel",
      "state": {
       "_model_module": "@jupyter-widgets/base",
       "_model_module_version": "1.2.0",
       "_model_name": "LayoutModel",
       "_view_count": null,
       "_view_module": "@jupyter-widgets/base",
       "_view_module_version": "1.2.0",
       "_view_name": "LayoutView",
       "align_content": null,
       "align_items": null,
       "align_self": null,
       "border": null,
       "bottom": null,
       "display": null,
       "flex": null,
       "flex_flow": null,
       "grid_area": null,
       "grid_auto_columns": null,
       "grid_auto_flow": null,
       "grid_auto_rows": null,
       "grid_column": null,
       "grid_gap": null,
       "grid_row": null,
       "grid_template_areas": null,
       "grid_template_columns": null,
       "grid_template_rows": null,
       "height": null,
       "justify_content": null,
       "justify_items": null,
       "left": null,
       "margin": null,
       "max_height": null,
       "max_width": null,
       "min_height": null,
       "min_width": null,
       "object_fit": null,
       "object_position": null,
       "order": null,
       "overflow": null,
       "overflow_x": null,
       "overflow_y": null,
       "padding": null,
       "right": null,
       "top": null,
       "visibility": null,
       "width": null
      }
     },
     "7c9af041032c4979becb061dcb01f76a": {
      "model_module": "@jupyter-widgets/controls",
      "model_module_version": "1.5.0",
      "model_name": "DescriptionStyleModel",
      "state": {
       "_model_module": "@jupyter-widgets/controls",
       "_model_module_version": "1.5.0",
       "_model_name": "DescriptionStyleModel",
       "_view_count": null,
       "_view_module": "@jupyter-widgets/base",
       "_view_module_version": "1.2.0",
       "_view_name": "StyleView",
       "description_width": ""
      }
     },
     "8078bc117e8946d4b8dcabaae32145e2": {
      "model_module": "@jupyter-widgets/controls",
      "model_module_version": "1.5.0",
      "model_name": "HTMLModel",
      "state": {
       "_dom_classes": [],
       "_model_module": "@jupyter-widgets/controls",
       "_model_module_version": "1.5.0",
       "_model_name": "HTMLModel",
       "_view_count": null,
       "_view_module": "@jupyter-widgets/controls",
       "_view_module_version": "1.5.0",
       "_view_name": "HTMLView",
       "description": "",
       "description_tooltip": null,
       "layout": "IPY_MODEL_f69b01c200054fe8904c35ec84c5b3db",
       "placeholder": "​",
       "style": "IPY_MODEL_e7aefaba43d342eda2c2664ba7c0029a",
       "value": "100%"
      }
     },
     "86c64595f25142e289b7710953a05560": {
      "model_module": "@jupyter-widgets/controls",
      "model_module_version": "1.5.0",
      "model_name": "FloatProgressModel",
      "state": {
       "_dom_classes": [],
       "_model_module": "@jupyter-widgets/controls",
       "_model_module_version": "1.5.0",
       "_model_name": "FloatProgressModel",
       "_view_count": null,
       "_view_module": "@jupyter-widgets/controls",
       "_view_module_version": "1.5.0",
       "_view_name": "ProgressView",
       "bar_style": "success",
       "description": "",
       "description_tooltip": null,
       "layout": "IPY_MODEL_79e488afd95746d98f7730c315246ede",
       "max": 27375.0,
       "min": 0.0,
       "orientation": "horizontal",
       "style": "IPY_MODEL_5f0cc59539784e56be1f18fcb49f17ff",
       "value": 27375.0
      }
     },
     "87e8b353f2be401cbaa33b57efd808f4": {
      "model_module": "@jupyter-widgets/controls",
      "model_module_version": "1.5.0",
      "model_name": "ProgressStyleModel",
      "state": {
       "_model_module": "@jupyter-widgets/controls",
       "_model_module_version": "1.5.0",
       "_model_name": "ProgressStyleModel",
       "_view_count": null,
       "_view_module": "@jupyter-widgets/base",
       "_view_module_version": "1.2.0",
       "_view_name": "StyleView",
       "bar_color": null,
       "description_width": ""
      }
     },
     "88d11714f14f43bdbed5a84a887f6b24": {
      "model_module": "@jupyter-widgets/controls",
      "model_module_version": "1.5.0",
      "model_name": "HBoxModel",
      "state": {
       "_dom_classes": [],
       "_model_module": "@jupyter-widgets/controls",
       "_model_module_version": "1.5.0",
       "_model_name": "HBoxModel",
       "_view_count": null,
       "_view_module": "@jupyter-widgets/controls",
       "_view_module_version": "1.5.0",
       "_view_name": "HBoxView",
       "box_style": "",
       "children": [
        "IPY_MODEL_8078bc117e8946d4b8dcabaae32145e2",
        "IPY_MODEL_86c64595f25142e289b7710953a05560",
        "IPY_MODEL_eeefa8c5e06646739c235142b4599d16"
       ],
       "layout": "IPY_MODEL_051a5787258b4851badfac76f899d72c"
      }
     },
     "916c2a46a61b4b7baf32c77bb729ce27": {
      "model_module": "@jupyter-widgets/controls",
      "model_module_version": "1.5.0",
      "model_name": "DescriptionStyleModel",
      "state": {
       "_model_module": "@jupyter-widgets/controls",
       "_model_module_version": "1.5.0",
       "_model_name": "DescriptionStyleModel",
       "_view_count": null,
       "_view_module": "@jupyter-widgets/base",
       "_view_module_version": "1.2.0",
       "_view_name": "StyleView",
       "description_width": ""
      }
     },
     "947a9358230040b88b02be4eb8102c65": {
      "model_module": "@jupyter-widgets/controls",
      "model_module_version": "1.5.0",
      "model_name": "DescriptionStyleModel",
      "state": {
       "_model_module": "@jupyter-widgets/controls",
       "_model_module_version": "1.5.0",
       "_model_name": "DescriptionStyleModel",
       "_view_count": null,
       "_view_module": "@jupyter-widgets/base",
       "_view_module_version": "1.2.0",
       "_view_name": "StyleView",
       "description_width": ""
      }
     },
     "984cd6f54f29407cb389e0994d638b7b": {
      "model_module": "@jupyter-widgets/controls",
      "model_module_version": "1.5.0",
      "model_name": "HBoxModel",
      "state": {
       "_dom_classes": [],
       "_model_module": "@jupyter-widgets/controls",
       "_model_module_version": "1.5.0",
       "_model_name": "HBoxModel",
       "_view_count": null,
       "_view_module": "@jupyter-widgets/controls",
       "_view_module_version": "1.5.0",
       "_view_name": "HBoxView",
       "box_style": "",
       "children": [
        "IPY_MODEL_6d1d1eed90b145b9bb2b1a99868d3e45",
        "IPY_MODEL_668eb6b6973a4da9b116ebfb523b8410",
        "IPY_MODEL_ffd9a2ee4e2e4d5d91ff9e763eab0e36"
       ],
       "layout": "IPY_MODEL_6284dfc1f9e247e3a6ac51ea2af1aa57"
      }
     },
     "a5c0072bcda64aa19d0cde294a066c5f": {
      "model_module": "@jupyter-widgets/base",
      "model_module_version": "1.2.0",
      "model_name": "LayoutModel",
      "state": {
       "_model_module": "@jupyter-widgets/base",
       "_model_module_version": "1.2.0",
       "_model_name": "LayoutModel",
       "_view_count": null,
       "_view_module": "@jupyter-widgets/base",
       "_view_module_version": "1.2.0",
       "_view_name": "LayoutView",
       "align_content": null,
       "align_items": null,
       "align_self": null,
       "border": null,
       "bottom": null,
       "display": null,
       "flex": null,
       "flex_flow": null,
       "grid_area": null,
       "grid_auto_columns": null,
       "grid_auto_flow": null,
       "grid_auto_rows": null,
       "grid_column": null,
       "grid_gap": null,
       "grid_row": null,
       "grid_template_areas": null,
       "grid_template_columns": null,
       "grid_template_rows": null,
       "height": null,
       "justify_content": null,
       "justify_items": null,
       "left": null,
       "margin": null,
       "max_height": null,
       "max_width": null,
       "min_height": null,
       "min_width": null,
       "object_fit": null,
       "object_position": null,
       "order": null,
       "overflow": null,
       "overflow_x": null,
       "overflow_y": null,
       "padding": null,
       "right": null,
       "top": null,
       "visibility": null,
       "width": null
      }
     },
     "af429b7a42944b4a971e7964671195bb": {
      "model_module": "@jupyter-widgets/base",
      "model_module_version": "1.2.0",
      "model_name": "LayoutModel",
      "state": {
       "_model_module": "@jupyter-widgets/base",
       "_model_module_version": "1.2.0",
       "_model_name": "LayoutModel",
       "_view_count": null,
       "_view_module": "@jupyter-widgets/base",
       "_view_module_version": "1.2.0",
       "_view_name": "LayoutView",
       "align_content": null,
       "align_items": null,
       "align_self": null,
       "border": null,
       "bottom": null,
       "display": null,
       "flex": null,
       "flex_flow": null,
       "grid_area": null,
       "grid_auto_columns": null,
       "grid_auto_flow": null,
       "grid_auto_rows": null,
       "grid_column": null,
       "grid_gap": null,
       "grid_row": null,
       "grid_template_areas": null,
       "grid_template_columns": null,
       "grid_template_rows": null,
       "height": null,
       "justify_content": null,
       "justify_items": null,
       "left": null,
       "margin": null,
       "max_height": null,
       "max_width": null,
       "min_height": null,
       "min_width": null,
       "object_fit": null,
       "object_position": null,
       "order": null,
       "overflow": null,
       "overflow_x": null,
       "overflow_y": null,
       "padding": null,
       "right": null,
       "top": null,
       "visibility": null,
       "width": null
      }
     },
     "cb913c98707a473aa73bfc25498327f4": {
      "model_module": "@jupyter-widgets/base",
      "model_module_version": "1.2.0",
      "model_name": "LayoutModel",
      "state": {
       "_model_module": "@jupyter-widgets/base",
       "_model_module_version": "1.2.0",
       "_model_name": "LayoutModel",
       "_view_count": null,
       "_view_module": "@jupyter-widgets/base",
       "_view_module_version": "1.2.0",
       "_view_name": "LayoutView",
       "align_content": null,
       "align_items": null,
       "align_self": null,
       "border": null,
       "bottom": null,
       "display": null,
       "flex": null,
       "flex_flow": null,
       "grid_area": null,
       "grid_auto_columns": null,
       "grid_auto_flow": null,
       "grid_auto_rows": null,
       "grid_column": null,
       "grid_gap": null,
       "grid_row": null,
       "grid_template_areas": null,
       "grid_template_columns": null,
       "grid_template_rows": null,
       "height": null,
       "justify_content": null,
       "justify_items": null,
       "left": null,
       "margin": null,
       "max_height": null,
       "max_width": null,
       "min_height": null,
       "min_width": null,
       "object_fit": null,
       "object_position": null,
       "order": null,
       "overflow": null,
       "overflow_x": null,
       "overflow_y": null,
       "padding": null,
       "right": null,
       "top": null,
       "visibility": null,
       "width": null
      }
     },
     "e1760f74efea4d94a235654887f9c41f": {
      "model_module": "@jupyter-widgets/base",
      "model_module_version": "1.2.0",
      "model_name": "LayoutModel",
      "state": {
       "_model_module": "@jupyter-widgets/base",
       "_model_module_version": "1.2.0",
       "_model_name": "LayoutModel",
       "_view_count": null,
       "_view_module": "@jupyter-widgets/base",
       "_view_module_version": "1.2.0",
       "_view_name": "LayoutView",
       "align_content": null,
       "align_items": null,
       "align_self": null,
       "border": null,
       "bottom": null,
       "display": null,
       "flex": null,
       "flex_flow": null,
       "grid_area": null,
       "grid_auto_columns": null,
       "grid_auto_flow": null,
       "grid_auto_rows": null,
       "grid_column": null,
       "grid_gap": null,
       "grid_row": null,
       "grid_template_areas": null,
       "grid_template_columns": null,
       "grid_template_rows": null,
       "height": null,
       "justify_content": null,
       "justify_items": null,
       "left": null,
       "margin": null,
       "max_height": null,
       "max_width": null,
       "min_height": null,
       "min_width": null,
       "object_fit": null,
       "object_position": null,
       "order": null,
       "overflow": null,
       "overflow_x": null,
       "overflow_y": null,
       "padding": null,
       "right": null,
       "top": null,
       "visibility": null,
       "width": null
      }
     },
     "e7aefaba43d342eda2c2664ba7c0029a": {
      "model_module": "@jupyter-widgets/controls",
      "model_module_version": "1.5.0",
      "model_name": "DescriptionStyleModel",
      "state": {
       "_model_module": "@jupyter-widgets/controls",
       "_model_module_version": "1.5.0",
       "_model_name": "DescriptionStyleModel",
       "_view_count": null,
       "_view_module": "@jupyter-widgets/base",
       "_view_module_version": "1.2.0",
       "_view_name": "StyleView",
       "description_width": ""
      }
     },
     "eeefa8c5e06646739c235142b4599d16": {
      "model_module": "@jupyter-widgets/controls",
      "model_module_version": "1.5.0",
      "model_name": "HTMLModel",
      "state": {
       "_dom_classes": [],
       "_model_module": "@jupyter-widgets/controls",
       "_model_module_version": "1.5.0",
       "_model_name": "HTMLModel",
       "_view_count": null,
       "_view_module": "@jupyter-widgets/controls",
       "_view_module_version": "1.5.0",
       "_view_name": "HTMLView",
       "description": "",
       "description_tooltip": null,
       "layout": "IPY_MODEL_e1760f74efea4d94a235654887f9c41f",
       "placeholder": "​",
       "style": "IPY_MODEL_947a9358230040b88b02be4eb8102c65",
       "value": " 27375/27375 [01:38&lt;00:00, 283.76it/s]"
      }
     },
     "f69b01c200054fe8904c35ec84c5b3db": {
      "model_module": "@jupyter-widgets/base",
      "model_module_version": "1.2.0",
      "model_name": "LayoutModel",
      "state": {
       "_model_module": "@jupyter-widgets/base",
       "_model_module_version": "1.2.0",
       "_model_name": "LayoutModel",
       "_view_count": null,
       "_view_module": "@jupyter-widgets/base",
       "_view_module_version": "1.2.0",
       "_view_name": "LayoutView",
       "align_content": null,
       "align_items": null,
       "align_self": null,
       "border": null,
       "bottom": null,
       "display": null,
       "flex": null,
       "flex_flow": null,
       "grid_area": null,
       "grid_auto_columns": null,
       "grid_auto_flow": null,
       "grid_auto_rows": null,
       "grid_column": null,
       "grid_gap": null,
       "grid_row": null,
       "grid_template_areas": null,
       "grid_template_columns": null,
       "grid_template_rows": null,
       "height": null,
       "justify_content": null,
       "justify_items": null,
       "left": null,
       "margin": null,
       "max_height": null,
       "max_width": null,
       "min_height": null,
       "min_width": null,
       "object_fit": null,
       "object_position": null,
       "order": null,
       "overflow": null,
       "overflow_x": null,
       "overflow_y": null,
       "padding": null,
       "right": null,
       "top": null,
       "visibility": null,
       "width": null
      }
     },
     "ffd9a2ee4e2e4d5d91ff9e763eab0e36": {
      "model_module": "@jupyter-widgets/controls",
      "model_module_version": "1.5.0",
      "model_name": "HTMLModel",
      "state": {
       "_dom_classes": [],
       "_model_module": "@jupyter-widgets/controls",
       "_model_module_version": "1.5.0",
       "_model_name": "HTMLModel",
       "_view_count": null,
       "_view_module": "@jupyter-widgets/controls",
       "_view_module_version": "1.5.0",
       "_view_name": "HTMLView",
       "description": "",
       "description_tooltip": null,
       "layout": "IPY_MODEL_af429b7a42944b4a971e7964671195bb",
       "placeholder": "​",
       "style": "IPY_MODEL_916c2a46a61b4b7baf32c77bb729ce27",
       "value": " 136950/136950 [08:13&lt;00:00, 253.80it/s]"
      }
     }
    },
    "version_major": 2,
    "version_minor": 0
   }
  }
 },
 "nbformat": 4,
 "nbformat_minor": 5
}
